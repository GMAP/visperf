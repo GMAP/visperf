{
 "cells": [
  {
   "cell_type": "markdown",
   "id": "8f72ca48",
   "metadata": {},
   "source": [
    "# VisCPU: data pre-processing"
   ]
  },
  {
   "cell_type": "markdown",
   "id": "49a5dc2a",
   "metadata": {},
   "source": [
    "Metrics to calculate:\n",
    "- IPC (Instructions Per Cycle): how much CPU cycles instructions require to execute?\n",
    "    - How to calculate? Instructions divided by CPU cycles;\n",
    "    - How to interpret? In general, values higher than one are good;\n",
    "    - https://stackoverflow.com/questions/51438407/how-to-correctly-measure-ipc-instructions-per-cycle-with-perf\n",
    "    \n",
    "- https://stackoverflow.com/questions/22165299/what-are-stalled-cycles-frontend-and-stalled-cycles-backend-in-perf-stat-resul\n",
    "\n",
    "- How well cache is working?\n",
    "    - How to calculate? Cache misses divided by instructions;\n",
    "    - How to interpret? Values close to zero are better;"
   ]
  },
  {
   "cell_type": "markdown",
   "id": "f982b259",
   "metadata": {},
   "source": [
    "## Dependencies and imports"
   ]
  },
  {
   "cell_type": "markdown",
   "id": "3960d0a3",
   "metadata": {},
   "source": [
    "Install and import required packages."
   ]
  },
  {
   "cell_type": "code",
   "execution_count": null,
   "id": "8d7d1e22",
   "metadata": {
    "scrolled": true
   },
   "outputs": [],
   "source": [
    "!pip install pandas\n",
    "!pip install psutil\n",
    "!conda install -c plotly plotly-orca -y"
   ]
  },
  {
   "cell_type": "code",
   "execution_count": 2,
   "id": "fabed656",
   "metadata": {},
   "outputs": [],
   "source": [
    "import json\n",
    "import pandas as pd\n",
    "import numpy as np\n",
    "from viscpu import utils, perf_record\n",
    "\n",
    "%load_ext autoreload\n",
    "%autoreload 2"
   ]
  },
  {
   "cell_type": "markdown",
   "id": "9b2c514e",
   "metadata": {},
   "source": [
    "## perf record"
   ]
  },
  {
   "cell_type": "markdown",
   "id": "504f888b",
   "metadata": {},
   "source": [
    "### Parse datasets"
   ]
  },
  {
   "cell_type": "code",
   "execution_count": 73,
   "id": "fb5db960",
   "metadata": {
    "scrolled": false
   },
   "outputs": [],
   "source": [
    "dataset_1 = \"../applications/simple-ff-test/data/perf-record-1.txt\"\n",
    "dataset_1_output = \"../applications/simple-ff-test/data/perf-record-1.csv\"\n",
    "dataset_2 = \"../applications/simple-ff-test/data/perf-record-2.txt\"\n",
    "dataset_2_output = \"../applications/simple-ff-test/data/perf-record-2.csv\"\n",
    "\n",
    "# perf_record.parse_record_dataset(dataset_1, dataset_1_output)\n",
    "# perf_record.parse_record_dataset(dataset_2, dataset_2_output)\n",
    "\n",
    "df_1 = pd.read_csv(dataset_1_output)\n",
    "df_2 = pd.read_csv(dataset_2_output)"
   ]
  },
  {
   "cell_type": "code",
   "execution_count": 74,
   "id": "6e115bdb",
   "metadata": {
    "scrolled": false
   },
   "outputs": [],
   "source": [
    "df_1[\"time\"] = df_1[\"time\"] - df_1[\"time\"].min()\n",
    "df_1[\"time_second\"] = df_1[\"time\"].apply(lambda x: int(x))\n",
    "df_1 = df_1.groupby([\"time_second\", \"tid\", \"event\", \"cpu\"]).agg({\"counter\": \"sum\", \"time\": \"mean\", \"stack\": perf_record.agg_stack}).reset_index()\n",
    "# print(df_1.tail())\n",
    "\n",
    "df_2[\"time\"] = df_2[\"time\"] - df_2[\"time\"].min()\n",
    "df_2[\"time_second\"] = df_2[\"time\"].apply(lambda x: int(x))\n",
    "df_2 = df_2.groupby([\"time_second\", \"tid\", \"event\", \"cpu\"]).agg({\"counter\": \"sum\", \"time\": \"mean\", \"stack\": perf_record.agg_stack}).reset_index()\n",
    "# print(df_2.tail())"
   ]
  },
  {
   "cell_type": "markdown",
   "id": "55a131f1",
   "metadata": {},
   "source": [
    "### Process datasets"
   ]
  },
  {
   "cell_type": "code",
   "execution_count": 75,
   "id": "ae5d70ad",
   "metadata": {},
   "outputs": [],
   "source": [
    "events = df_1[\"event\"].unique().tolist()\n",
    "cpu_setup = np.zeros([3, 4], dtype=int).tolist()\n",
    "cpu_labels = perf_record.cpu_labels(cpu_setup, 4)\n",
    "\n",
    "output = {\n",
    "    \"events\": sorted(events, key=str.casefold),\n",
    "    \"cpu_setup\": cpu_setup,\n",
    "    \"cpu_labels\": cpu_labels,\n",
    "    \"threads-dataset-1\": df_1[\"tid\"].unique().tolist(),\n",
    "    \"threads-dataset-2\": df_2[\"tid\"].unique().tolist(),\n",
    "    \"dataset-1\": {\n",
    "        \"ipc-performance\": {},\n",
    "        \"l1-cache-performance\": {},\n",
    "        \"llc-cache-performance\": {},\n",
    "        \"raw\": {},\n",
    "        \"aggregated\": {},\n",
    "        \"functions\": {\"raw\": {}, \"aggregated\": {}},\n",
    "        \"threads\": {\"raw\": {}, \"aggregated\": {}},\n",
    "        \"search_function_threads\": {}\n",
    "    },\n",
    "    \"dataset-2\": {\n",
    "        \"ipc-performance\": {},\n",
    "        \"l1-cache-performance\": {},\n",
    "        \"llc-cache-performance\": {},\n",
    "        \"raw\": {},\n",
    "        \"aggregated\": {},\n",
    "        \"functions\": {\"raw\": {}, \"aggregated\": {}},\n",
    "        \"threads\": {\"raw\": {}, \"aggregated\": {}},\n",
    "        \"search_function_threads\": {}\n",
    "    },\n",
    "    \"comparison-1-2\": {},\n",
    "    \"comparison-2-1\": {}\n",
    "}"
   ]
  },
  {
   "cell_type": "markdown",
   "id": "35995014",
   "metadata": {},
   "source": [
    "Load data from each captured event and write in `output`:"
   ]
  },
  {
   "cell_type": "code",
   "execution_count": 76,
   "id": "4eba4b0a",
   "metadata": {
    "scrolled": true
   },
   "outputs": [],
   "source": [
    "for event in events:\n",
    "    if event not in output[\"dataset-1\"][\"raw\"]:\n",
    "        output[\"dataset-1\"][\"raw\"][event] = {}\n",
    "        output[\"dataset-2\"][\"raw\"][event] = {}\n",
    "        \n",
    "    times, captures = perf_record.get_event_data(df_1, cpu_setup, event)\n",
    "    output[\"dataset-1\"][\"raw\"][event] = {\"captures\": captures}\n",
    "\n",
    "    times, captures = perf_record.get_event_data(df_2, cpu_setup, event)\n",
    "    output[\"dataset-2\"][\"raw\"][event] = {\"captures\": captures}"
   ]
  },
  {
   "cell_type": "markdown",
   "id": "19aacb32",
   "metadata": {},
   "source": [
    "Aggregate time series of events. This will allow to compare the overall performance of the experiments."
   ]
  },
  {
   "cell_type": "code",
   "execution_count": 77,
   "id": "2f47b6dd",
   "metadata": {
    "scrolled": true
   },
   "outputs": [],
   "source": [
    "for event in events:\n",
    "    df_1_aggr = df_1[(df_1[\"event\"] == event)].groupby([\"cpu\"], as_index=False)[\"counter\"]\n",
    "    df_2_aggr = df_2[(df_2[\"event\"] == event)].groupby([\"cpu\"], as_index=False)[\"counter\"]\n",
    "\n",
    "    a = perf_record.transform_cpu_data(df_1_aggr.mean(), cpu_setup)\n",
    "    a_sum = np.sum(a)\n",
    "    b = perf_record.transform_cpu_data(df_2_aggr.mean(), cpu_setup)\n",
    "    b_sum = np.sum(b)\n",
    "\n",
    "    output[\"dataset-1\"][\"aggregated\"][event] = {\n",
    "        \"mean\": a,\n",
    "        \"mean_relative\": a if a_sum <= 0 else ((np.array(a) / a_sum) * 100).tolist()\n",
    "    }\n",
    "    output[\"dataset-2\"][\"aggregated\"][event] = {\n",
    "        \"mean\": b,\n",
    "        \"mean_relative\": b if b_sum <= 0 else ((np.array(b) / b_sum) * 100).tolist()\n",
    "    }\n",
    "\n",
    "    output[\"comparison-1-2\"][event] = {\n",
    "        \"mean\": (np.array(a) - np.array(b)).tolist(),\n",
    "        \"mean_relative\": b if b_sum <= 0 else ((np.array(a) / a_sum - np.array(b) / b_sum) * 100).tolist(),\n",
    "        \"mean_value\": 0 if np.mean(a) <= 0 else ((np.mean(b) / np.mean(a)) - 1) * 100\n",
    "    }\n",
    "    output[\"comparison-2-1\"][event] = {\n",
    "        \"mean\": (np.array(b) - np.array(a)).tolist(),\n",
    "        \"mean_relative\": a if a_sum <= 0 else ((np.array(b) / b_sum - np.array(a) / a_sum) * 100).tolist(),\n",
    "        \"mean_value\": 0 if np.mean(b) <= 0 else ((np.mean(a) / np.mean(b)) - 1) * 100\n",
    "    }"
   ]
  },
  {
   "cell_type": "markdown",
   "id": "c89ff2ce",
   "metadata": {},
   "source": [
    "Parse functions and threads to allow faster search."
   ]
  },
  {
   "cell_type": "code",
   "execution_count": 78,
   "id": "f3dde13b",
   "metadata": {},
   "outputs": [],
   "source": [
    "for event in events:\n",
    "    output[\"dataset-1\"][\"search_function_threads\"][event] = perf_record.get_search_functions_threads(df_1, event)\n",
    "    output[\"dataset-2\"][\"search_function_threads\"][event] = perf_record.get_search_functions_threads(df_2, event)\n",
    "    \n",
    "    if event not in output[\"dataset-1\"][\"functions\"][\"raw\"]:\n",
    "        output[\"dataset-1\"][\"functions\"][\"raw\"][event] = {}\n",
    "        output[\"dataset-2\"][\"functions\"][\"raw\"][event] = {}\n",
    "        output[\"dataset-1\"][\"threads\"][\"raw\"][event] = {}\n",
    "        output[\"dataset-2\"][\"threads\"][\"raw\"][event] = {}\n",
    "            \n",
    "    for time in df_1[\"time_second\"].unique().tolist():\n",
    "        functions, threads = perf_record.get_unique_functions_threads(df_1, event, time)\n",
    "        output[\"dataset-1\"][\"functions\"][\"raw\"][event][time] = functions\n",
    "        output[\"dataset-1\"][\"threads\"][\"raw\"][event][time] = threads\n",
    "\n",
    "    for time in df_2[\"time_second\"].unique().tolist():\n",
    "        functions, threads = perf_record.get_unique_functions_threads(df_2, event, time)\n",
    "        output[\"dataset-2\"][\"functions\"][\"raw\"][event][time] = functions\n",
    "        output[\"dataset-2\"][\"threads\"][\"raw\"][event][time] = threads"
   ]
  },
  {
   "cell_type": "markdown",
   "id": "bd461243",
   "metadata": {},
   "source": [
    "Cache and IPC metrics."
   ]
  },
  {
   "cell_type": "code",
   "execution_count": 79,
   "id": "c8f4b450",
   "metadata": {},
   "outputs": [],
   "source": [
    "def get_counter_value(df, event):\n",
    "    df_filtered = df[df[\"event\"] == event]\n",
    "    if df_filtered.empty:\n",
    "        return 0\n",
    "    return float(df_filtered[\"counter\"])\n",
    "\n",
    "\n",
    "for time in df_1[\"time_second\"].unique().tolist():\n",
    "    df = df_1[\n",
    "        (df_1[\"time_second\"] == time) &\n",
    "        (df_1[\"event\"].isin([\"L1-dcache-load-misses\", \"LLC-load-misses\", \"instructions\", \"cpu-cycles\"]))\n",
    "    ].groupby([\"event\"]).agg({\"counter\": \"sum\"}).reset_index()\n",
    "    output[\"dataset-1\"][\"ipc-performance\"][time] = get_counter_value(df, \"instructions\") / get_counter_value(df, \"cpu-cycles\")\n",
    "    output[\"dataset-1\"][\"l1-cache-performance\"][time] = get_counter_value(df, \"L1-dcache-load-misses\") / get_counter_value(df, \"instructions\")\n",
    "    output[\"dataset-1\"][\"llc-cache-performance\"][time] = get_counter_value(df, \"LLC-load-misses\") / get_counter_value(df, \"instructions\")\n",
    "    \n",
    "for time in df_2[\"time_second\"].unique().tolist():\n",
    "    df = df_2[\n",
    "        (df_2[\"time_second\"] == time) &\n",
    "        (df_2[\"event\"].isin([\"L1-dcache-load-misses\", \"LLC-load-misses\", \"instructions\", \"cpu-cycles\"]))\n",
    "    ].groupby([\"event\"]).agg({\"counter\": \"sum\"}).reset_index()\n",
    "    output[\"dataset-2\"][\"ipc-performance\"][time] = get_counter_value(df, \"instructions\") / get_counter_value(df, \"cpu-cycles\")\n",
    "    output[\"dataset-2\"][\"l1-cache-performance\"][time] = get_counter_value(df, \"L1-dcache-load-misses\") / get_counter_value(df, \"instructions\")\n",
    "    output[\"dataset-2\"][\"llc-cache-performance\"][time] = get_counter_value(df, \"LLC-load-misses\") / get_counter_value(df, \"instructions\")"
   ]
  },
  {
   "cell_type": "markdown",
   "id": "edd4236b",
   "metadata": {},
   "source": [
    "### Output"
   ]
  },
  {
   "cell_type": "markdown",
   "id": "f93c3ae7",
   "metadata": {},
   "source": [
    "Write `output` to a JSON file:"
   ]
  },
  {
   "cell_type": "code",
   "execution_count": 80,
   "id": "7aa28ae2",
   "metadata": {},
   "outputs": [
    {
     "name": "stdout",
     "output_type": "stream",
     "text": [
      "mkdir: cannot create directory ‘data’: File exists\r\n"
     ]
    }
   ],
   "source": [
    "!mkdir data\n",
    "\n",
    "with open(\"data/simple-ff-test-1-2.json\", \"w\") as f:\n",
    "    json.dump(output, f)"
   ]
  },
  {
   "cell_type": "code",
   "execution_count": null,
   "id": "4c850203",
   "metadata": {},
   "outputs": [],
   "source": []
  }
 ],
 "metadata": {
  "kernelspec": {
   "display_name": "Python [conda env:dnn]",
   "language": "python",
   "name": "conda-env-dnn-py"
  },
  "language_info": {
   "codemirror_mode": {
    "name": "ipython",
    "version": 3
   },
   "file_extension": ".py",
   "mimetype": "text/x-python",
   "name": "python",
   "nbconvert_exporter": "python",
   "pygments_lexer": "ipython3",
   "version": "3.9.4"
  }
 },
 "nbformat": 4,
 "nbformat_minor": 5
}
