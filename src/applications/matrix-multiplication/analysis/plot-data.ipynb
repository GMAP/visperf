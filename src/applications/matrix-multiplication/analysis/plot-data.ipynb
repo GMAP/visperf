{
 "cells": [
  {
   "cell_type": "markdown",
   "id": "f982b259",
   "metadata": {},
   "source": [
    "### Dependencies and imports"
   ]
  },
  {
   "cell_type": "code",
   "execution_count": null,
   "id": "8d7d1e22",
   "metadata": {
    "scrolled": true
   },
   "outputs": [],
   "source": [
    "!pip install pandas\n",
    "!pip install psutil\n",
    "!conda install -c plotly plotly-orca -y"
   ]
  },
  {
   "cell_type": "code",
   "execution_count": 1,
   "id": "fabed656",
   "metadata": {},
   "outputs": [],
   "source": [
    "import math\n",
    "import pandas as pd\n",
    "import plotly.graph_objects as go\n",
    "from plotly.subplots import make_subplots"
   ]
  },
  {
   "cell_type": "markdown",
   "id": "5f0b5a3f",
   "metadata": {},
   "source": [
    "### Application"
   ]
  },
  {
   "cell_type": "markdown",
   "id": "4ce6721e",
   "metadata": {},
   "source": [
    "Example of an application using the farm pattern."
   ]
  },
  {
   "attachments": {
    "image.png": {
     "image/png": "[encoded data removed]"
    }
   },
   "cell_type": "markdown",
   "id": "1ff496a2",
   "metadata": {},
   "source": [
    "<div>\n",
    "    <img src=\"attachment:image.png\" width=\"400\" />\n",
    "</div>"
   ]
  },
  {
   "cell_type": "markdown",
   "id": "cca70b4e",
   "metadata": {},
   "source": [
    "### Plot test 1"
   ]
  },
  {
   "cell_type": "markdown",
   "id": "1af8bc2f",
   "metadata": {},
   "source": [
    "In this test, I map emitter to core 1, workers to core 5 and collector to core 11. The perf command is `perf stat -a -I 100 -o perf-test-1.csv -x \",\" -e cpu-cycles,cache-misses,instructions,cycle_activity.cycles_l3_miss -C 1,5,11 -- ./program`."
   ]
  },
  {
   "cell_type": "code",
   "execution_count": 2,
   "id": "2b7c2c64",
   "metadata": {},
   "outputs": [
    {
     "data": {
      "text/html": [
       "<div>\n",
       "<style scoped>\n",
       "    .dataframe tbody tr th:only-of-type {\n",
       "        vertical-align: middle;\n",
       "    }\n",
       "\n",
       "    .dataframe tbody tr th {\n",
       "        vertical-align: top;\n",
       "    }\n",
       "\n",
       "    .dataframe thead th {\n",
       "        text-align: right;\n",
       "    }\n",
       "</style>\n",
       "<table border=\"1\" class=\"dataframe\">\n",
       "  <thead>\n",
       "    <tr style=\"text-align: right;\">\n",
       "      <th></th>\n",
       "      <th>0</th>\n",
       "      <th>1</th>\n",
       "      <th>2</th>\n",
       "      <th>3</th>\n",
       "      <th>4</th>\n",
       "      <th>5</th>\n",
       "      <th>6</th>\n",
       "      <th>7</th>\n",
       "      <th>8</th>\n",
       "    </tr>\n",
       "  </thead>\n",
       "  <tbody>\n",
       "    <tr>\n",
       "      <th>363</th>\n",
       "      <td>9.245369</td>\n",
       "      <td>1040462</td>\n",
       "      <td>NaN</td>\n",
       "      <td>cycle_activity.cycles_l3_miss</td>\n",
       "      <td>305483155</td>\n",
       "      <td>100</td>\n",
       "      <td>0</td>\n",
       "      <td>NaN</td>\n",
       "      <td>NaN</td>\n",
       "    </tr>\n",
       "    <tr>\n",
       "      <th>364</th>\n",
       "      <td>9.254295</td>\n",
       "      <td>71303049</td>\n",
       "      <td>NaN</td>\n",
       "      <td>cpu-cycles</td>\n",
       "      <td>26931103</td>\n",
       "      <td>100</td>\n",
       "      <td>0</td>\n",
       "      <td>NaN</td>\n",
       "      <td>NaN</td>\n",
       "    </tr>\n",
       "    <tr>\n",
       "      <th>365</th>\n",
       "      <td>9.254295</td>\n",
       "      <td>22256</td>\n",
       "      <td>NaN</td>\n",
       "      <td>cache-misses</td>\n",
       "      <td>26931609</td>\n",
       "      <td>100</td>\n",
       "      <td>0</td>\n",
       "      <td>NaN</td>\n",
       "      <td>NaN</td>\n",
       "    </tr>\n",
       "    <tr>\n",
       "      <th>366</th>\n",
       "      <td>9.254295</td>\n",
       "      <td>51205071</td>\n",
       "      <td>NaN</td>\n",
       "      <td>instructions</td>\n",
       "      <td>26931437</td>\n",
       "      <td>100</td>\n",
       "      <td>0</td>\n",
       "      <td>0.0</td>\n",
       "      <td>insn per cycle</td>\n",
       "    </tr>\n",
       "    <tr>\n",
       "      <th>367</th>\n",
       "      <td>9.254295</td>\n",
       "      <td>263473</td>\n",
       "      <td>NaN</td>\n",
       "      <td>cycle_activity.cycles_l3_miss</td>\n",
       "      <td>26931339</td>\n",
       "      <td>100</td>\n",
       "      <td>0</td>\n",
       "      <td>NaN</td>\n",
       "      <td>NaN</td>\n",
       "    </tr>\n",
       "  </tbody>\n",
       "</table>\n",
       "</div>"
      ],
      "text/plain": [
       "            0         1   2                              3          4    5  6  \\\n",
       "363  9.245369   1040462 NaN  cycle_activity.cycles_l3_miss  305483155  100  0   \n",
       "364  9.254295  71303049 NaN                     cpu-cycles   26931103  100  0   \n",
       "365  9.254295     22256 NaN                   cache-misses   26931609  100  0   \n",
       "366  9.254295  51205071 NaN                   instructions   26931437  100  0   \n",
       "367  9.254295    263473 NaN  cycle_activity.cycles_l3_miss   26931339  100  0   \n",
       "\n",
       "       7               8  \n",
       "363  NaN             NaN  \n",
       "364  NaN             NaN  \n",
       "365  NaN             NaN  \n",
       "366  0.0  insn per cycle  \n",
       "367  NaN             NaN  "
      ]
     },
     "execution_count": 2,
     "metadata": {},
     "output_type": "execute_result"
    }
   ],
   "source": [
    "events = [\"cpu-cycles\", \"cache-misses\", \"instructions\"]\n",
    "data_t1_df = pd.read_csv(\"../data/perf-test-1.csv\", skiprows=1, header=None)\n",
    "data_t1_df.tail()"
   ]
  },
  {
   "cell_type": "code",
   "execution_count": 8,
   "id": "2465f2ab",
   "metadata": {
    "scrolled": false
   },
   "outputs": [
    {
     "data": {
      "image/svg+xml": [
       "<svg class=\"main-svg\" xmlns=\"http://www.w3.org/2000/svg\" xmlns:xlink=\"http://www.w3.org/1999/xlink\" width=\"700\" height=\"450\" style=\"\" viewBox=\"0 0 700 450\"><rect x=\"0\" y=\"0\" width=\"700\" height=\"450\" style=\"fill: rgb(255, 255, 255); fill-opacity: 1;\"/><defs id=\"defs-c71095\"><g class=\"clips\"><clipPath id=\"clipc71095xyplot\" class=\"plotclip\"><rect width=\"540\" height=\"60\"/></clipPath><clipPath id=\"clipc71095x2y2plot\" class=\"plotclip\"><rect width=\"540\" height=\"60.000000000000014\"/></clipPath><clipPath id=\"clipc71095x3y3plot\" class=\"plotclip\"><rect width=\"540\" height=\"60.00000000000001\"/></clipPath><clipPath class=\"axesclip\" id=\"clipc71095x\"><rect x=\"80\" y=\"0\" width=\"540\" height=\"450\"/></clipPath><clipPath class=\"axesclip\" id=\"clipc71095y\"><rect x=\"0\" y=\"100\" width=\"700\" height=\"60\"/></clipPath><clipPath class=\"axesclip\" id=\"clipc71095xy\"><rect x=\"80\" y=\"100\" width=\"540\" height=\"60\"/></clipPath><clipPath class=\"axesclip\" id=\"clipc71095y2\"><rect x=\"0\" y=\"205\" width=\"700\" height=\"60.000000000000014\"/></clipPath><clipPath class=\"axesclip\" id=\"clipc71095xy2\"><rect x=\"80\" y=\"205\" width=\"540\" height=\"60.000000000000014\"/></clipPath><clipPath class=\"axesclip\" id=\"clipc71095y3\"><rect x=\"0\" y=\"310\" width=\"700\" height=\"60.00000000000001\"/></clipPath><clipPath class=\"axesclip\" id=\"clipc71095xy3\"><rect x=\"80\" y=\"310\" width=\"540\" height=\"60.00000000000001\"/></clipPath><clipPath class=\"axesclip\" id=\"clipc71095x2\"><rect x=\"80\" y=\"0\" width=\"540\" height=\"450\"/></clipPath><clipPath class=\"axesclip\" id=\"clipc71095x2y\"><rect x=\"80\" y=\"100\" width=\"540\" height=\"60\"/></clipPath><clipPath class=\"axesclip\" id=\"clipc71095x2y2\"><rect x=\"80\" y=\"205\" width=\"540\" height=\"60.000000000000014\"/></clipPath><clipPath class=\"axesclip\" id=\"clipc71095x2y3\"><rect x=\"80\" y=\"310\" width=\"540\" height=\"60.00000000000001\"/></clipPath><clipPath class=\"axesclip\" id=\"clipc71095x3\"><rect x=\"80\" y=\"0\" width=\"540\" height=\"450\"/></clipPath><clipPath class=\"axesclip\" id=\"clipc71095x3y\"><rect x=\"80\" y=\"100\" width=\"540\" height=\"60\"/></clipPath><clipPath class=\"axesclip\" id=\"clipc71095x3y2\"><rect x=\"80\" y=\"205\" width=\"540\" height=\"60.000000000000014\"/></clipPath><clipPath class=\"axesclip\" id=\"clipc71095x3y3\"><rect x=\"80\" y=\"310\" width=\"540\" height=\"60.00000000000001\"/></clipPath></g><g class=\"gradients\"/></defs><g class=\"bglayer\"><rect class=\"bg\" x=\"80\" y=\"100\" width=\"540\" height=\"60\" style=\"fill: rgb(229, 236, 246); fill-opacity: 1; stroke-width: 0;\"/><rect class=\"bg\" x=\"80\" y=\"205\" width=\"540\" height=\"60.000000000000014\" style=\"fill: rgb(229, 236, 246); fill-opacity: 1; stroke-width: 0;\"/><rect class=\"bg\" x=\"80\" y=\"310\" width=\"540\" height=\"60.00000000000001\" style=\"fill: rgb(229, 236, 246); fill-opacity: 1; stroke-width: 0;\"/></g><g class=\"layer-below\"><g class=\"imagelayer\"/><g class=\"shapelayer\"/></g><g class=\"cartesianlayer\"><g class=\"subplot xy\"><g class=\"layer-subplot\"><g class=\"shapelayer\"/><g class=\"imagelayer\"/></g><g class=\"gridlayer\"><g class=\"x\"><path class=\"xgrid crisp\" transform=\"translate(192.07,0)\" d=\"M0,100v60\" style=\"stroke: rgb(255, 255, 255); stroke-opacity: 1; stroke-width: 1px;\"/><path class=\"xgrid crisp\" transform=\"translate(310.05,0)\" d=\"M0,100v60\" style=\"stroke: rgb(255, 255, 255); stroke-opacity: 1; stroke-width: 1px;\"/><path class=\"xgrid crisp\" transform=\"translate(428.03,0)\" d=\"M0,100v60\" style=\"stroke: rgb(255, 255, 255); stroke-opacity: 1; stroke-width: 1px;\"/><path class=\"xgrid crisp\" transform=\"translate(546.01,0)\" d=\"M0,100v60\" style=\"stroke: rgb(255, 255, 255); stroke-opacity: 1; stroke-width: 1px;\"/></g><g class=\"y\"><path class=\"ygrid crisp\" transform=\"translate(0,134.59)\" d=\"M80,0h540\" style=\"stroke: rgb(255, 255, 255); stroke-opacity: 1; stroke-width: 1px;\"/><path class=\"ygrid crisp\" transform=\"translate(0,108.46000000000001)\" d=\"M80,0h540\" style=\"stroke: rgb(255, 255, 255); stroke-opacity: 1; stroke-width: 1px;\"/></g></g><g class=\"zerolinelayer\"/><path class=\"xlines-below\"/><path class=\"ylines-below\"/><g class=\"overlines-below\"/><g class=\"xaxislayer-below\"/><g class=\"yaxislayer-below\"/><g class=\"overaxes-below\"/><g class=\"plot\" transform=\"translate(80,100)\" clip-path=\"url('#clipc71095xyplot')\"><g class=\"scatterlayer mlayer\"><g class=\"trace scatter trace95a913\" style=\"stroke-miterlimit: 2; opacity: 1;\"><g class=\"fills\"/><g class=\"errorbars\"/><g class=\"lines\"><path class=\"js-line\" d=\"M0,7.07L5.91,3.97L12.26,3L18.63,5.88L24.54,7.41L36.36,7.46L42.27,6.75L54.27,10.85L60.18,10.37L66.14,8.79L72.27,10.56L78.18,12.78L84.09,11.46L90,11.3L95.91,11.97L101.82,10.82L107.74,12.66L125.48,9.35L131.39,12.33L137.3,19.23L143.21,18.38L155.09,16.84L161,24.9L173.19,25.73L179.1,19.59L185.01,13.2L190.92,11L196.83,9.56L202.92,10.57L208.83,8.02L215.19,10.07L221.1,11.53L227.01,11.6L232.92,10.57L238.83,10.61L244.73,11.12L250.65,10.55L256.72,9.6L262.85,11.38L274.67,10.57L280.58,11.82L292.4,10.59L298.31,8.34L304.62,9.46L310.53,8.02L322.8,10.59L328.7,10.65L334.61,6.37L341.43,8.93L347.34,4.48L354.41,7.95L360.31,11.93L366.22,11.23L372.13,11.34L378.04,9.54L390.05,9.37L396.17,9.51L402.08,11.95L407.99,11.7L419.81,10.96L425.72,10.7L437.54,11.21L443.44,10.6L449.5,7.78L455.87,8.98L468.15,11.71L474.06,11.43L479.97,11.97L485.88,10.73L491.79,11.06L497.7,10.09L503.61,9L509.51,9.02L515.42,10.9L521.34,10.73L527.37,11.67L533.27,10.65L539.47,8.37L540,57\" style=\"vector-effect: non-scaling-stroke; fill: none; stroke: rgb(99, 110, 250); stroke-opacity: 1; stroke-width: 2px; opacity: 1;\"/></g><g class=\"points\"/><g class=\"text\"/></g></g></g><g class=\"overplot\"/><path class=\"xlines-above crisp\" d=\"M0,0\" style=\"fill: none;\"/><path class=\"ylines-above crisp\" d=\"M0,0\" style=\"fill: none;\"/><g class=\"overlines-above\"/><g class=\"xaxislayer-above\"><g class=\"xtick\"><text text-anchor=\"middle\" x=\"0\" y=\"173\" transform=\"translate(192.07,0)\" style=\"font-family: 'Open Sans', verdana, arial, sans-serif; font-size: 12px; fill: rgb(42, 63, 95); fill-opacity: 1; white-space: pre;\">2</text></g><g class=\"xtick\"><text text-anchor=\"middle\" x=\"0\" y=\"173\" transform=\"translate(310.05,0)\" style=\"font-family: 'Open Sans', verdana, arial, sans-serif; font-size: 12px; fill: rgb(42, 63, 95); fill-opacity: 1; white-space: pre;\">4</text></g><g class=\"xtick\"><text text-anchor=\"middle\" x=\"0\" y=\"173\" transform=\"translate(428.03,0)\" style=\"font-family: 'Open Sans', verdana, arial, sans-serif; font-size: 12px; fill: rgb(42, 63, 95); fill-opacity: 1; white-space: pre;\">6</text></g><g class=\"xtick\"><text text-anchor=\"middle\" x=\"0\" y=\"173\" transform=\"translate(546.01,0)\" style=\"font-family: 'Open Sans', verdana, arial, sans-serif; font-size: 12px; fill: rgb(42, 63, 95); fill-opacity: 1; white-space: pre;\">8</text></g></g><g class=\"yaxislayer-above\"><g class=\"ytick\"><text text-anchor=\"end\" x=\"79\" y=\"4.199999999999999\" transform=\"translate(0,134.59)\" style=\"font-family: 'Open Sans', verdana, arial, sans-serif; font-size: 12px; fill: rgb(42, 63, 95); fill-opacity: 1; white-space: pre;\">0.5B</text></g><g class=\"ytick\"><text text-anchor=\"end\" x=\"79\" y=\"4.199999999999999\" transform=\"translate(0,108.46000000000001)\" style=\"font-family: 'Open Sans', verdana, arial, sans-serif; font-size: 12px; fill: rgb(42, 63, 95); fill-opacity: 1; white-space: pre;\">1B</text></g></g><g class=\"overaxes-above\"/></g><g class=\"subplot x2y2\"><g class=\"layer-subplot\"><g class=\"shapelayer\"/><g class=\"imagelayer\"/></g><g class=\"gridlayer\"><g class=\"x2\"><path class=\"x2grid crisp\" transform=\"translate(192.07,0)\" d=\"M0,205v60.000000000000014\" style=\"stroke: rgb(255, 255, 255); stroke-opacity: 1; stroke-width: 1px;\"/><path class=\"x2grid crisp\" transform=\"translate(310.05,0)\" d=\"M0,205v60.000000000000014\" style=\"stroke: rgb(255, 255, 255); stroke-opacity: 1; stroke-width: 1px;\"/><path class=\"x2grid crisp\" transform=\"translate(428.03,0)\" d=\"M0,205v60.000000000000014\" style=\"stroke: rgb(255, 255, 255); stroke-opacity: 1; stroke-width: 1px;\"/><path class=\"x2grid crisp\" transform=\"translate(546.01,0)\" d=\"M0,205v60.000000000000014\" style=\"stroke: rgb(255, 255, 255); stroke-opacity: 1; stroke-width: 1px;\"/></g><g class=\"y2\"><path class=\"y2grid crisp\" transform=\"translate(0,254.44)\" d=\"M80,0h540\" style=\"stroke: rgb(255, 255, 255); stroke-opacity: 1; stroke-width: 1px;\"/><path class=\"y2grid crisp\" transform=\"translate(0,240.82)\" d=\"M80,0h540\" style=\"stroke: rgb(255, 255, 255); stroke-opacity: 1; stroke-width: 1px;\"/><path class=\"y2grid crisp\" transform=\"translate(0,227.2)\" d=\"M80,0h540\" style=\"stroke: rgb(255, 255, 255); stroke-opacity: 1; stroke-width: 1px;\"/><path class=\"y2grid crisp\" transform=\"translate(0,213.59)\" d=\"M80,0h540\" style=\"stroke: rgb(255, 255, 255); stroke-opacity: 1; stroke-width: 1px;\"/></g></g><g class=\"zerolinelayer\"/><path class=\"xlines-below\"/><path class=\"ylines-below\"/><g class=\"overlines-below\"/><g class=\"xaxislayer-below\"/><g class=\"yaxislayer-below\"/><g class=\"overaxes-below\"/><g class=\"plot\" transform=\"translate(80,205)\" clip-path=\"url('#clipc71095x2y2plot')\"><g class=\"scatterlayer mlayer\"><g class=\"trace scatter trace5a916d\" style=\"stroke-miterlimit: 2; opacity: 1;\"><g class=\"fills\"/><g class=\"errorbars\"/><g class=\"lines\"><path class=\"js-line\" d=\"M0,19.25L5.91,36.65L12.26,37.48L24.54,39.21L30.45,38.71L36.36,40.16L42.27,31.19L48.36,7.7L54.27,12.11L60.18,21.57L66.14,29.64L72.27,25.63L78.18,3L84.09,18.07L90,28.68L95.91,33.73L101.82,22.13L107.74,30.89L113.65,32.25L119.57,30.65L125.48,30.83L131.39,33.17L137.3,15.55L143.21,19.35L149.12,26.12L155.09,39.96L161,36.95L167.05,33.1L173.19,32.53L179.1,39.69L185.01,38.2L190.92,40.71L196.83,40.5L202.92,39.25L208.83,38.97L215.19,35.82L221.1,38L227.01,41.09L232.92,40.22L238.83,35.44L244.73,37.7L250.65,35.57L256.72,32.32L262.85,40.68L268.76,36.53L274.67,41.19L280.58,32.16L286.49,36.89L292.4,38.72L298.31,35.56L304.62,35.95L310.53,39.68L316.89,35.02L322.8,37.71L328.7,39.08L334.61,24.01L341.43,36.22L347.34,28.05L354.41,34.16L360.31,27.11L366.22,40.85L372.13,40.23L378.04,36.27L384.14,7.47L390.05,25.23L396.17,26.58L402.08,35.21L407.99,31.38L413.9,25.12L419.81,26.83L425.72,32.24L431.62,41.3L437.54,28.69L443.44,37.65L449.5,35.29L462.24,39.66L468.15,40.25L474.06,28.68L479.97,24.9L485.88,41L491.79,39.03L503.61,39.11L509.51,40.36L515.42,37.33L521.34,42.24L527.37,34.66L533.27,21.37L539.47,36.01L540,57\" style=\"vector-effect: non-scaling-stroke; fill: none; stroke: rgb(239, 85, 59); stroke-opacity: 1; stroke-width: 2px; opacity: 1;\"/></g><g class=\"points\"/><g class=\"text\"/></g></g></g><g class=\"overplot\"/><path class=\"xlines-above crisp\" d=\"M0,0\" style=\"fill: none;\"/><path class=\"ylines-above crisp\" d=\"M0,0\" style=\"fill: none;\"/><g class=\"overlines-above\"/><g class=\"xaxislayer-above\"><g class=\"x2tick\"><text text-anchor=\"middle\" x=\"0\" y=\"278\" transform=\"translate(192.07,0)\" style=\"font-family: 'Open Sans', verdana, arial, sans-serif; font-size: 12px; fill: rgb(42, 63, 95); fill-opacity: 1; white-space: pre;\">2</text></g><g class=\"x2tick\"><text text-anchor=\"middle\" x=\"0\" y=\"278\" transform=\"translate(310.05,0)\" style=\"font-family: 'Open Sans', verdana, arial, sans-serif; font-size: 12px; fill: rgb(42, 63, 95); fill-opacity: 1; white-space: pre;\">4</text></g><g class=\"x2tick\"><text text-anchor=\"middle\" x=\"0\" y=\"278\" transform=\"translate(428.03,0)\" style=\"font-family: 'Open Sans', verdana, arial, sans-serif; font-size: 12px; fill: rgb(42, 63, 95); fill-opacity: 1; white-space: pre;\">6</text></g><g class=\"x2tick\"><text text-anchor=\"middle\" x=\"0\" y=\"278\" transform=\"translate(546.01,0)\" style=\"font-family: 'Open Sans', verdana, arial, sans-serif; font-size: 12px; fill: rgb(42, 63, 95); fill-opacity: 1; white-space: pre;\">8</text></g></g><g class=\"yaxislayer-above\"><g class=\"y2tick\"><text text-anchor=\"end\" x=\"79\" y=\"4.199999999999999\" transform=\"translate(0,254.44)\" style=\"font-family: 'Open Sans', verdana, arial, sans-serif; font-size: 12px; fill: rgb(42, 63, 95); fill-opacity: 1; white-space: pre;\">50k</text></g><g class=\"y2tick\"><text text-anchor=\"end\" x=\"79\" y=\"4.199999999999999\" transform=\"translate(0,240.82)\" style=\"font-family: 'Open Sans', verdana, arial, sans-serif; font-size: 12px; fill: rgb(42, 63, 95); fill-opacity: 1; white-space: pre;\">100k</text></g><g class=\"y2tick\"><text text-anchor=\"end\" x=\"79\" y=\"4.199999999999999\" transform=\"translate(0,227.2)\" style=\"font-family: 'Open Sans', verdana, arial, sans-serif; font-size: 12px; fill: rgb(42, 63, 95); fill-opacity: 1; white-space: pre;\">150k</text></g><g class=\"y2tick\"><text text-anchor=\"end\" x=\"79\" y=\"4.199999999999999\" transform=\"translate(0,213.59)\" style=\"font-family: 'Open Sans', verdana, arial, sans-serif; font-size: 12px; fill: rgb(42, 63, 95); fill-opacity: 1; white-space: pre;\">200k</text></g></g><g class=\"overaxes-above\"/></g><g class=\"subplot x3y3\"><g class=\"layer-subplot\"><g class=\"shapelayer\"/><g class=\"imagelayer\"/></g><g class=\"gridlayer\"><g class=\"x3\"><path class=\"x3grid crisp\" transform=\"translate(192.07,0)\" d=\"M0,310v60.00000000000001\" style=\"stroke: rgb(255, 255, 255); stroke-opacity: 1; stroke-width: 1px;\"/><path class=\"x3grid crisp\" transform=\"translate(310.05,0)\" d=\"M0,310v60.00000000000001\" style=\"stroke: rgb(255, 255, 255); stroke-opacity: 1; stroke-width: 1px;\"/><path class=\"x3grid crisp\" transform=\"translate(428.03,0)\" d=\"M0,310v60.00000000000001\" style=\"stroke: rgb(255, 255, 255); stroke-opacity: 1; stroke-width: 1px;\"/><path class=\"x3grid crisp\" transform=\"translate(546.01,0)\" d=\"M0,310v60.00000000000001\" style=\"stroke: rgb(255, 255, 255); stroke-opacity: 1; stroke-width: 1px;\"/></g><g class=\"y3\"><path class=\"y3grid crisp\" transform=\"translate(0,357.75)\" d=\"M80,0h540\" style=\"stroke: rgb(255, 255, 255); stroke-opacity: 1; stroke-width: 1px;\"/><path class=\"y3grid crisp\" transform=\"translate(0,345.32)\" d=\"M80,0h540\" style=\"stroke: rgb(255, 255, 255); stroke-opacity: 1; stroke-width: 1px;\"/><path class=\"y3grid crisp\" transform=\"translate(0,332.88)\" d=\"M80,0h540\" style=\"stroke: rgb(255, 255, 255); stroke-opacity: 1; stroke-width: 1px;\"/><path class=\"y3grid crisp\" transform=\"translate(0,320.45)\" d=\"M80,0h540\" style=\"stroke: rgb(255, 255, 255); stroke-opacity: 1; stroke-width: 1px;\"/></g></g><g class=\"zerolinelayer\"/><path class=\"xlines-below\"/><path class=\"ylines-below\"/><g class=\"overlines-below\"/><g class=\"xaxislayer-below\"/><g class=\"yaxislayer-below\"/><g class=\"overaxes-below\"/><g class=\"plot\" transform=\"translate(80,310)\" clip-path=\"url('#clipc71095x3y3plot')\"><g class=\"scatterlayer mlayer\"><g class=\"trace scatter traced92794\" style=\"stroke-miterlimit: 2; opacity: 1;\"><g class=\"fills\"/><g class=\"errorbars\"/><g class=\"lines\"><path class=\"js-line\" d=\"M0,5.33L12.26,3L18.63,4.59L24.54,6.45L30.45,6.77L36.36,7.47L42.27,6.14L54.27,7.71L60.18,7.06L66.14,5.75L72.27,6.66L78.18,9.41L84.09,7.91L101.82,7.39L107.74,8.74L125.48,6.75L131.39,9.32L137.3,15.48L143.21,15.26L149.12,13.71L155.09,13.41L161,21.85L167.05,22.08L173.19,23.21L179.1,16.04L185.01,10.36L190.92,9.36L196.83,7.78L202.92,9.35L208.83,6.47L215.19,7.18L221.1,9.06L227.01,9.93L232.92,9.92L238.83,7.78L250.65,8.19L256.72,6.78L274.67,10.42L280.58,10.1L286.49,10.79L292.4,8.97L298.31,7.07L304.62,6.46L310.53,7.79L316.89,7.48L328.7,8.2L334.61,4.49L341.43,6.54L347.34,4.55L354.41,4.41L360.31,9.34L366.22,8.41L372.13,9.35L378.04,11.48L384.14,11.08L396.17,11.38L402.08,11.04L407.99,9.26L413.9,8.74L425.72,7.89L431.62,8.73L437.54,9.59L443.44,8.33L449.5,6.32L455.87,5.49L462.24,6.72L468.15,9.15L474.06,9.33L479.97,10.29L485.88,7.99L491.79,9.3L497.7,11.99L503.61,11.03L509.51,11.06L515.42,12.74L521.34,12.6L527.37,13.4L533.27,12.63L539.47,12.69L540,57\" style=\"vector-effect: non-scaling-stroke; fill: none; stroke: rgb(0, 204, 150); stroke-opacity: 1; stroke-width: 2px; opacity: 1;\"/></g><g class=\"points\"/><g class=\"text\"/></g></g></g><g class=\"overplot\"/><path class=\"xlines-above crisp\" d=\"M0,0\" style=\"fill: none;\"/><path class=\"ylines-above crisp\" d=\"M0,0\" style=\"fill: none;\"/><g class=\"overlines-above\"/><g class=\"xaxislayer-above\"><g class=\"x3tick\"><text text-anchor=\"middle\" x=\"0\" y=\"383\" transform=\"translate(192.07,0)\" style=\"font-family: 'Open Sans', verdana, arial, sans-serif; font-size: 12px; fill: rgb(42, 63, 95); fill-opacity: 1; white-space: pre;\">2</text></g><g class=\"x3tick\"><text text-anchor=\"middle\" x=\"0\" y=\"383\" transform=\"translate(310.05,0)\" style=\"font-family: 'Open Sans', verdana, arial, sans-serif; font-size: 12px; fill: rgb(42, 63, 95); fill-opacity: 1; white-space: pre;\">4</text></g><g class=\"x3tick\"><text text-anchor=\"middle\" x=\"0\" y=\"383\" transform=\"translate(428.03,0)\" style=\"font-family: 'Open Sans', verdana, arial, sans-serif; font-size: 12px; fill: rgb(42, 63, 95); fill-opacity: 1; white-space: pre;\">6</text></g><g class=\"x3tick\"><text text-anchor=\"middle\" x=\"0\" y=\"383\" transform=\"translate(546.01,0)\" style=\"font-family: 'Open Sans', verdana, arial, sans-serif; font-size: 12px; fill: rgb(42, 63, 95); fill-opacity: 1; white-space: pre;\">8</text></g></g><g class=\"yaxislayer-above\"><g class=\"y3tick\"><text text-anchor=\"end\" x=\"79\" y=\"4.199999999999999\" transform=\"translate(0,357.75)\" style=\"font-family: 'Open Sans', verdana, arial, sans-serif; font-size: 12px; fill: rgb(42, 63, 95); fill-opacity: 1; white-space: pre;\">200M</text></g><g class=\"y3tick\"><text text-anchor=\"end\" x=\"79\" y=\"4.199999999999999\" transform=\"translate(0,345.32)\" style=\"font-family: 'Open Sans', verdana, arial, sans-serif; font-size: 12px; fill: rgb(42, 63, 95); fill-opacity: 1; white-space: pre;\">400M</text></g><g class=\"y3tick\"><text text-anchor=\"end\" x=\"79\" y=\"4.199999999999999\" transform=\"translate(0,332.88)\" style=\"font-family: 'Open Sans', verdana, arial, sans-serif; font-size: 12px; fill: rgb(42, 63, 95); fill-opacity: 1; white-space: pre;\">600M</text></g><g class=\"y3tick\"><text text-anchor=\"end\" x=\"79\" y=\"4.199999999999999\" transform=\"translate(0,320.45)\" style=\"font-family: 'Open Sans', verdana, arial, sans-serif; font-size: 12px; fill: rgb(42, 63, 95); fill-opacity: 1; white-space: pre;\">800M</text></g></g><g class=\"overaxes-above\"/></g></g><g class=\"polarlayer\"/><g class=\"ternarylayer\"/><g class=\"geolayer\"/><g class=\"funnelarealayer\"/><g class=\"pielayer\"/><g class=\"treemaplayer\"/><g class=\"sunburstlayer\"/><g class=\"glimages\"/><defs id=\"topdefs-c71095\"><g class=\"clips\"/></defs><g class=\"layer-above\"><g class=\"imagelayer\"/><g class=\"shapelayer\"/></g><g class=\"infolayer\"><g class=\"g-gtitle\"/><g class=\"g-xtitle\"/><g class=\"g-x2title\"/><g class=\"g-x3title\"/><g class=\"g-ytitle\"/><g class=\"g-y2title\"/><g class=\"g-y3title\"/><g class=\"annotation\" data-index=\"0\" style=\"opacity: 1;\"><g class=\"annotation-text-g\" transform=\"rotate(0,350,89.5)\"><g class=\"cursor-pointer\" transform=\"translate(309,79)\"><rect class=\"bg\" x=\"0.5\" y=\"0.5\" width=\"81\" height=\"20\" style=\"stroke-width: 1px; stroke: rgb(0, 0, 0); stroke-opacity: 0; fill: rgb(0, 0, 0); fill-opacity: 0;\"/><text class=\"annotation-text\" text-anchor=\"middle\" x=\"40.796875\" y=\"16\" style=\"font-family: 'Open Sans', verdana, arial, sans-serif; font-size: 16px; fill: rgb(42, 63, 95); fill-opacity: 1; white-space: pre;\">cpu-cycles</text></g></g></g><g class=\"annotation\" data-index=\"1\" style=\"opacity: 1;\"><g class=\"annotation-text-g\" transform=\"rotate(0,350,194.5)\"><g class=\"cursor-pointer\" transform=\"translate(298,184)\"><rect class=\"bg\" x=\"0.5\" y=\"0.5\" width=\"103\" height=\"20\" style=\"stroke-width: 1px; stroke: rgb(0, 0, 0); stroke-opacity: 0; fill: rgb(0, 0, 0); fill-opacity: 0;\"/><text class=\"annotation-text\" text-anchor=\"middle\" x=\"51.90625\" y=\"16\" style=\"font-family: 'Open Sans', verdana, arial, sans-serif; font-size: 16px; fill: rgb(42, 63, 95); fill-opacity: 1; white-space: pre;\">cache-misses</text></g></g></g><g class=\"annotation\" data-index=\"2\" style=\"opacity: 1;\"><g class=\"annotation-text-g\" transform=\"rotate(0,350,299.5)\"><g class=\"cursor-pointer\" transform=\"translate(307,289)\"><rect class=\"bg\" x=\"0.5\" y=\"0.5\" width=\"85\" height=\"20\" style=\"stroke-width: 1px; stroke: rgb(0, 0, 0); stroke-opacity: 0; fill: rgb(0, 0, 0); fill-opacity: 0;\"/><text class=\"annotation-text\" text-anchor=\"middle\" x=\"42.46875\" y=\"16\" style=\"font-family: 'Open Sans', verdana, arial, sans-serif; font-size: 16px; fill: rgb(42, 63, 95); fill-opacity: 1; white-space: pre;\">instructions</text></g></g></g></g></svg>"
      ]
     },
     "metadata": {},
     "output_type": "display_data"
    }
   ],
   "source": [
    "cols = 1\n",
    "rows = math.ceil(len(events) / cols)\n",
    "fig = make_subplots(rows=rows, cols=cols, subplot_titles=events)\n",
    "\n",
    "for i, event in enumerate(events):\n",
    "    col = (i % cols) + 1\n",
    "    row = math.ceil((i + 1) / cols)\n",
    "    df = data_t1_df.loc[data_t1_df[3] == event]\n",
    "    fig.add_trace(\n",
    "        go.Scatter(x=df[0].values, y=df[1].values, mode=\"lines\"),\n",
    "        row=row,\n",
    "        col=col\n",
    "    )\n",
    "\n",
    "fig.update_layout(showlegend=False)\n",
    "fig.show(\"svg\")"
   ]
  },
  {
   "cell_type": "code",
   "execution_count": null,
   "id": "296eecff",
   "metadata": {},
   "outputs": [],
   "source": []
  },
  {
   "cell_type": "markdown",
   "id": "6b6cd92c",
   "metadata": {},
   "source": [
    "### Plot test 2"
   ]
  },
  {
   "cell_type": "markdown",
   "id": "5b3a5c28",
   "metadata": {},
   "source": [
    "In this test, I map emitter to core 9, workers to core 10 and collector to core 11. The perf command is `perf stat -a -I 100 -o perf-test-2.csv -x \",\" -e cpu-cycles,cache-misses,instructions,cycle_activity.cycles_l3_miss -C 9,10,11 -- ./program`."
   ]
  },
  {
   "cell_type": "code",
   "execution_count": 6,
   "id": "595884f4",
   "metadata": {},
   "outputs": [
    {
     "data": {
      "text/html": [
       "<div>\n",
       "<style scoped>\n",
       "    .dataframe tbody tr th:only-of-type {\n",
       "        vertical-align: middle;\n",
       "    }\n",
       "\n",
       "    .dataframe tbody tr th {\n",
       "        vertical-align: top;\n",
       "    }\n",
       "\n",
       "    .dataframe thead th {\n",
       "        text-align: right;\n",
       "    }\n",
       "</style>\n",
       "<table border=\"1\" class=\"dataframe\">\n",
       "  <thead>\n",
       "    <tr style=\"text-align: right;\">\n",
       "      <th></th>\n",
       "      <th>0</th>\n",
       "      <th>1</th>\n",
       "      <th>2</th>\n",
       "      <th>3</th>\n",
       "      <th>4</th>\n",
       "      <th>5</th>\n",
       "      <th>6</th>\n",
       "      <th>7</th>\n",
       "      <th>8</th>\n",
       "    </tr>\n",
       "  </thead>\n",
       "  <tbody>\n",
       "    <tr>\n",
       "      <th>163</th>\n",
       "      <td>4.136950</td>\n",
       "      <td>531315</td>\n",
       "      <td>NaN</td>\n",
       "      <td>cycle_activity.cycles_l3_miss</td>\n",
       "      <td>300593858</td>\n",
       "      <td>100</td>\n",
       "      <td>0</td>\n",
       "      <td>NaN</td>\n",
       "      <td>NaN</td>\n",
       "    </tr>\n",
       "    <tr>\n",
       "      <th>164</th>\n",
       "      <td>4.166037</td>\n",
       "      <td>280499957</td>\n",
       "      <td>NaN</td>\n",
       "      <td>cpu-cycles</td>\n",
       "      <td>87424692</td>\n",
       "      <td>100</td>\n",
       "      <td>0</td>\n",
       "      <td>NaN</td>\n",
       "      <td>NaN</td>\n",
       "    </tr>\n",
       "    <tr>\n",
       "      <th>165</th>\n",
       "      <td>4.166037</td>\n",
       "      <td>42890</td>\n",
       "      <td>NaN</td>\n",
       "      <td>cache-misses</td>\n",
       "      <td>87424436</td>\n",
       "      <td>100</td>\n",
       "      <td>0</td>\n",
       "      <td>NaN</td>\n",
       "      <td>NaN</td>\n",
       "    </tr>\n",
       "    <tr>\n",
       "      <th>166</th>\n",
       "      <td>4.166037</td>\n",
       "      <td>223981931</td>\n",
       "      <td>NaN</td>\n",
       "      <td>instructions</td>\n",
       "      <td>87423968</td>\n",
       "      <td>100</td>\n",
       "      <td>0</td>\n",
       "      <td>0.0</td>\n",
       "      <td>insn per cycle</td>\n",
       "    </tr>\n",
       "    <tr>\n",
       "      <th>167</th>\n",
       "      <td>4.166037</td>\n",
       "      <td>471202</td>\n",
       "      <td>NaN</td>\n",
       "      <td>cycle_activity.cycles_l3_miss</td>\n",
       "      <td>87423739</td>\n",
       "      <td>100</td>\n",
       "      <td>0</td>\n",
       "      <td>NaN</td>\n",
       "      <td>NaN</td>\n",
       "    </tr>\n",
       "  </tbody>\n",
       "</table>\n",
       "</div>"
      ],
      "text/plain": [
       "            0          1   2                              3          4    5  \\\n",
       "163  4.136950     531315 NaN  cycle_activity.cycles_l3_miss  300593858  100   \n",
       "164  4.166037  280499957 NaN                     cpu-cycles   87424692  100   \n",
       "165  4.166037      42890 NaN                   cache-misses   87424436  100   \n",
       "166  4.166037  223981931 NaN                   instructions   87423968  100   \n",
       "167  4.166037     471202 NaN  cycle_activity.cycles_l3_miss   87423739  100   \n",
       "\n",
       "     6    7               8  \n",
       "163  0  NaN             NaN  \n",
       "164  0  NaN             NaN  \n",
       "165  0  NaN             NaN  \n",
       "166  0  0.0  insn per cycle  \n",
       "167  0  NaN             NaN  "
      ]
     },
     "execution_count": 6,
     "metadata": {},
     "output_type": "execute_result"
    }
   ],
   "source": [
    "events = [\"cpu-cycles\", \"cache-misses\", \"instructions\"]\n",
    "data_t2_df = pd.read_csv(\"../data/perf-test-2.csv\", skiprows=1, header=None)\n",
    "data_t2_df.tail()"
   ]
  },
  {
   "cell_type": "code",
   "execution_count": 9,
   "id": "dec4597f",
   "metadata": {
    "scrolled": false
   },
   "outputs": [
    {
     "data": {
      "image/svg+xml": [
       "<svg class=\"main-svg\" xmlns=\"http://www.w3.org/2000/svg\" xmlns:xlink=\"http://www.w3.org/1999/xlink\" width=\"700\" height=\"450\" style=\"\" viewBox=\"0 0 700 450\"><rect x=\"0\" y=\"0\" width=\"700\" height=\"450\" style=\"fill: rgb(255, 255, 255); fill-opacity: 1;\"/><defs id=\"defs-bec545\"><g class=\"clips\"><clipPath id=\"clipbec545xyplot\" class=\"plotclip\"><rect width=\"540\" height=\"60\"/></clipPath><clipPath id=\"clipbec545x2y2plot\" class=\"plotclip\"><rect width=\"540\" height=\"60.000000000000014\"/></clipPath><clipPath id=\"clipbec545x3y3plot\" class=\"plotclip\"><rect width=\"540\" height=\"60.00000000000001\"/></clipPath><clipPath class=\"axesclip\" id=\"clipbec545x\"><rect x=\"80\" y=\"0\" width=\"540\" height=\"450\"/></clipPath><clipPath class=\"axesclip\" id=\"clipbec545y\"><rect x=\"0\" y=\"100\" width=\"700\" height=\"60\"/></clipPath><clipPath class=\"axesclip\" id=\"clipbec545xy\"><rect x=\"80\" y=\"100\" width=\"540\" height=\"60\"/></clipPath><clipPath class=\"axesclip\" id=\"clipbec545y2\"><rect x=\"0\" y=\"205\" width=\"700\" height=\"60.000000000000014\"/></clipPath><clipPath class=\"axesclip\" id=\"clipbec545xy2\"><rect x=\"80\" y=\"205\" width=\"540\" height=\"60.000000000000014\"/></clipPath><clipPath class=\"axesclip\" id=\"clipbec545y3\"><rect x=\"0\" y=\"310\" width=\"700\" height=\"60.00000000000001\"/></clipPath><clipPath class=\"axesclip\" id=\"clipbec545xy3\"><rect x=\"80\" y=\"310\" width=\"540\" height=\"60.00000000000001\"/></clipPath><clipPath class=\"axesclip\" id=\"clipbec545x2\"><rect x=\"80\" y=\"0\" width=\"540\" height=\"450\"/></clipPath><clipPath class=\"axesclip\" id=\"clipbec545x2y\"><rect x=\"80\" y=\"100\" width=\"540\" height=\"60\"/></clipPath><clipPath class=\"axesclip\" id=\"clipbec545x2y2\"><rect x=\"80\" y=\"205\" width=\"540\" height=\"60.000000000000014\"/></clipPath><clipPath class=\"axesclip\" id=\"clipbec545x2y3\"><rect x=\"80\" y=\"310\" width=\"540\" height=\"60.00000000000001\"/></clipPath><clipPath class=\"axesclip\" id=\"clipbec545x3\"><rect x=\"80\" y=\"0\" width=\"540\" height=\"450\"/></clipPath><clipPath class=\"axesclip\" id=\"clipbec545x3y\"><rect x=\"80\" y=\"100\" width=\"540\" height=\"60\"/></clipPath><clipPath class=\"axesclip\" id=\"clipbec545x3y2\"><rect x=\"80\" y=\"205\" width=\"540\" height=\"60.000000000000014\"/></clipPath><clipPath class=\"axesclip\" id=\"clipbec545x3y3\"><rect x=\"80\" y=\"310\" width=\"540\" height=\"60.00000000000001\"/></clipPath></g><g class=\"gradients\"/></defs><g class=\"bglayer\"><rect class=\"bg\" x=\"80\" y=\"100\" width=\"540\" height=\"60\" style=\"fill: rgb(229, 236, 246); fill-opacity: 1; stroke-width: 0;\"/><rect class=\"bg\" x=\"80\" y=\"205\" width=\"540\" height=\"60.000000000000014\" style=\"fill: rgb(229, 236, 246); fill-opacity: 1; stroke-width: 0;\"/><rect class=\"bg\" x=\"80\" y=\"310\" width=\"540\" height=\"60.00000000000001\" style=\"fill: rgb(229, 236, 246); fill-opacity: 1; stroke-width: 0;\"/></g><g class=\"layer-below\"><g class=\"imagelayer\"/><g class=\"shapelayer\"/></g><g class=\"cartesianlayer\"><g class=\"subplot xy\"><g class=\"layer-subplot\"><g class=\"shapelayer\"/><g class=\"imagelayer\"/></g><g class=\"gridlayer\"><g class=\"x\"><path class=\"xgrid crisp\" transform=\"translate(199.5,0)\" d=\"M0,100v60\" style=\"stroke: rgb(255, 255, 255); stroke-opacity: 1; stroke-width: 1px;\"/><path class=\"xgrid crisp\" transform=\"translate(332.32,0)\" d=\"M0,100v60\" style=\"stroke: rgb(255, 255, 255); stroke-opacity: 1; stroke-width: 1px;\"/><path class=\"xgrid crisp\" transform=\"translate(465.13,0)\" d=\"M0,100v60\" style=\"stroke: rgb(255, 255, 255); stroke-opacity: 1; stroke-width: 1px;\"/><path class=\"xgrid crisp\" transform=\"translate(597.95,0)\" d=\"M0,100v60\" style=\"stroke: rgb(255, 255, 255); stroke-opacity: 1; stroke-width: 1px;\"/></g><g class=\"y\"><path class=\"ygrid crisp\" transform=\"translate(0,149)\" d=\"M80,0h540\" style=\"stroke: rgb(255, 255, 255); stroke-opacity: 1; stroke-width: 1px;\"/><path class=\"ygrid crisp\" transform=\"translate(0,135.61)\" d=\"M80,0h540\" style=\"stroke: rgb(255, 255, 255); stroke-opacity: 1; stroke-width: 1px;\"/><path class=\"ygrid crisp\" transform=\"translate(0,122.22)\" d=\"M80,0h540\" style=\"stroke: rgb(255, 255, 255); stroke-opacity: 1; stroke-width: 1px;\"/><path class=\"ygrid crisp\" transform=\"translate(0,108.84)\" d=\"M80,0h540\" style=\"stroke: rgb(255, 255, 255); stroke-opacity: 1; stroke-width: 1px;\"/></g></g><g class=\"zerolinelayer\"/><path class=\"xlines-below\"/><path class=\"ylines-below\"/><g class=\"overlines-below\"/><g class=\"xaxislayer-below\"/><g class=\"yaxislayer-below\"/><g class=\"overaxes-below\"/><g class=\"plot\" transform=\"translate(80,100)\" clip-path=\"url('#clipbec545xyplot')\"><g class=\"scatterlayer mlayer\"><g class=\"trace scatter trace0ec767\" style=\"stroke-miterlimit: 2; opacity: 1;\"><g class=\"fills\"/><g class=\"errorbars\"/><g class=\"lines\"><path class=\"js-line\" d=\"M0,3.83L13.31,6.75L26.61,7.52L39.91,6.42L53.73,3L68.07,5.32L81.88,6.52L95.18,5.79L108.97,12.01L122.28,35.79L135.59,37.95L148.91,39.17L162.22,37.61L175.53,35.99L188.84,31.61L268.7,31.16L282.01,21.98L295.31,15.31L308.62,13.56L335.22,12.26L348.53,13.56L361.83,14.44L375.14,13.55L401.76,12.62L415.06,9.64L429.32,12.07L442.63,12.66L455.94,13.56L469.24,12.78L495.85,14.64L509.15,12.4L522.83,12.98L536.14,12.41L540,57\" style=\"vector-effect: non-scaling-stroke; fill: none; stroke: rgb(99, 110, 250); stroke-opacity: 1; stroke-width: 2px; opacity: 1;\"/></g><g class=\"points\"/><g class=\"text\"/></g></g></g><g class=\"overplot\"/><path class=\"xlines-above crisp\" d=\"M0,0\" style=\"fill: none;\"/><path class=\"ylines-above crisp\" d=\"M0,0\" style=\"fill: none;\"/><g class=\"overlines-above\"/><g class=\"xaxislayer-above\"><g class=\"xtick\"><text text-anchor=\"middle\" x=\"0\" y=\"173\" transform=\"translate(199.5,0)\" style=\"font-family: 'Open Sans', verdana, arial, sans-serif; font-size: 12px; fill: rgb(42, 63, 95); fill-opacity: 1; white-space: pre;\">1</text></g><g class=\"xtick\"><text text-anchor=\"middle\" x=\"0\" y=\"173\" transform=\"translate(332.32,0)\" style=\"font-family: 'Open Sans', verdana, arial, sans-serif; font-size: 12px; fill: rgb(42, 63, 95); fill-opacity: 1; white-space: pre;\">2</text></g><g class=\"xtick\"><text text-anchor=\"middle\" x=\"0\" y=\"173\" transform=\"translate(465.13,0)\" style=\"font-family: 'Open Sans', verdana, arial, sans-serif; font-size: 12px; fill: rgb(42, 63, 95); fill-opacity: 1; white-space: pre;\">3</text></g><g class=\"xtick\"><text text-anchor=\"middle\" x=\"0\" y=\"173\" transform=\"translate(597.95,0)\" style=\"font-family: 'Open Sans', verdana, arial, sans-serif; font-size: 12px; fill: rgb(42, 63, 95); fill-opacity: 1; white-space: pre;\">4</text></g></g><g class=\"yaxislayer-above\"><g class=\"ytick\"><text text-anchor=\"end\" x=\"79\" y=\"4.199999999999999\" transform=\"translate(0,149)\" style=\"font-family: 'Open Sans', verdana, arial, sans-serif; font-size: 12px; fill: rgb(42, 63, 95); fill-opacity: 1; white-space: pre;\">0.4B</text></g><g class=\"ytick\"><text text-anchor=\"end\" x=\"79\" y=\"4.199999999999999\" transform=\"translate(0,135.61)\" style=\"font-family: 'Open Sans', verdana, arial, sans-serif; font-size: 12px; fill: rgb(42, 63, 95); fill-opacity: 1; white-space: pre;\">0.6B</text></g><g class=\"ytick\"><text text-anchor=\"end\" x=\"79\" y=\"4.199999999999999\" transform=\"translate(0,122.22)\" style=\"font-family: 'Open Sans', verdana, arial, sans-serif; font-size: 12px; fill: rgb(42, 63, 95); fill-opacity: 1; white-space: pre;\">0.8B</text></g><g class=\"ytick\"><text text-anchor=\"end\" x=\"79\" y=\"4.199999999999999\" transform=\"translate(0,108.84)\" style=\"font-family: 'Open Sans', verdana, arial, sans-serif; font-size: 12px; fill: rgb(42, 63, 95); fill-opacity: 1; white-space: pre;\">1B</text></g></g><g class=\"overaxes-above\"/></g><g class=\"subplot x2y2\"><g class=\"layer-subplot\"><g class=\"shapelayer\"/><g class=\"imagelayer\"/></g><g class=\"gridlayer\"><g class=\"x2\"><path class=\"x2grid crisp\" transform=\"translate(199.5,0)\" d=\"M0,205v60.000000000000014\" style=\"stroke: rgb(255, 255, 255); stroke-opacity: 1; stroke-width: 1px;\"/><path class=\"x2grid crisp\" transform=\"translate(332.32,0)\" d=\"M0,205v60.000000000000014\" style=\"stroke: rgb(255, 255, 255); stroke-opacity: 1; stroke-width: 1px;\"/><path class=\"x2grid crisp\" transform=\"translate(465.13,0)\" d=\"M0,205v60.000000000000014\" style=\"stroke: rgb(255, 255, 255); stroke-opacity: 1; stroke-width: 1px;\"/><path class=\"x2grid crisp\" transform=\"translate(597.95,0)\" d=\"M0,205v60.000000000000014\" style=\"stroke: rgb(255, 255, 255); stroke-opacity: 1; stroke-width: 1px;\"/></g><g class=\"y2\"><path class=\"y2grid crisp\" transform=\"translate(0,259.09000000000003)\" d=\"M80,0h540\" style=\"stroke: rgb(255, 255, 255); stroke-opacity: 1; stroke-width: 1px;\"/><path class=\"y2grid crisp\" transform=\"translate(0,238.59)\" d=\"M80,0h540\" style=\"stroke: rgb(255, 255, 255); stroke-opacity: 1; stroke-width: 1px;\"/><path class=\"y2grid crisp\" transform=\"translate(0,218.1)\" d=\"M80,0h540\" style=\"stroke: rgb(255, 255, 255); stroke-opacity: 1; stroke-width: 1px;\"/></g></g><g class=\"zerolinelayer\"/><path class=\"xlines-below\"/><path class=\"ylines-below\"/><g class=\"overlines-below\"/><g class=\"xaxislayer-below\"/><g class=\"yaxislayer-below\"/><g class=\"overaxes-below\"/><g class=\"plot\" transform=\"translate(80,205)\" clip-path=\"url('#clipbec545x2y2plot')\"><g class=\"scatterlayer mlayer\"><g class=\"trace scatter trace907f24\" style=\"stroke-miterlimit: 2; opacity: 1;\"><g class=\"fills\"/><g class=\"errorbars\"/><g class=\"lines\"><path class=\"js-line\" d=\"M0,33.05L13.31,35.99L26.61,32.56L39.91,43.43L53.73,16.06L68.07,3L81.88,21.68L95.18,37.58L108.97,43.75L122.28,46.42L135.59,34.35L148.91,40.02L162.22,42.24L175.53,36.07L188.84,38.54L202.15,15.88L215.46,41.91L228.77,46.04L242.08,47.23L255.39,45.78L268.7,38.16L282.01,43.12L295.31,36.26L308.62,22.38L321.92,19.43L335.22,34.99L348.53,9.31L361.83,9.16L375.14,42.69L388.45,43.13L401.76,40.32L415.06,34.37L429.32,34.46L442.63,45.39L455.94,32.97L469.24,36.33L482.54,20.29L495.85,11.03L509.15,43.43L522.83,46.17L536.14,44.48L540,57\" style=\"vector-effect: non-scaling-stroke; fill: none; stroke: rgb(239, 85, 59); stroke-opacity: 1; stroke-width: 2px; opacity: 1;\"/></g><g class=\"points\"/><g class=\"text\"/></g></g></g><g class=\"overplot\"/><path class=\"xlines-above crisp\" d=\"M0,0\" style=\"fill: none;\"/><path class=\"ylines-above crisp\" d=\"M0,0\" style=\"fill: none;\"/><g class=\"overlines-above\"/><g class=\"xaxislayer-above\"><g class=\"x2tick\"><text text-anchor=\"middle\" x=\"0\" y=\"278\" transform=\"translate(199.5,0)\" style=\"font-family: 'Open Sans', verdana, arial, sans-serif; font-size: 12px; fill: rgb(42, 63, 95); fill-opacity: 1; white-space: pre;\">1</text></g><g class=\"x2tick\"><text text-anchor=\"middle\" x=\"0\" y=\"278\" transform=\"translate(332.32,0)\" style=\"font-family: 'Open Sans', verdana, arial, sans-serif; font-size: 12px; fill: rgb(42, 63, 95); fill-opacity: 1; white-space: pre;\">2</text></g><g class=\"x2tick\"><text text-anchor=\"middle\" x=\"0\" y=\"278\" transform=\"translate(465.13,0)\" style=\"font-family: 'Open Sans', verdana, arial, sans-serif; font-size: 12px; fill: rgb(42, 63, 95); fill-opacity: 1; white-space: pre;\">3</text></g><g class=\"x2tick\"><text text-anchor=\"middle\" x=\"0\" y=\"278\" transform=\"translate(597.95,0)\" style=\"font-family: 'Open Sans', verdana, arial, sans-serif; font-size: 12px; fill: rgb(42, 63, 95); fill-opacity: 1; white-space: pre;\">4</text></g></g><g class=\"yaxislayer-above\"><g class=\"y2tick\"><text text-anchor=\"end\" x=\"79\" y=\"4.199999999999999\" transform=\"translate(0,259.09000000000003)\" style=\"font-family: 'Open Sans', verdana, arial, sans-serif; font-size: 12px; fill: rgb(42, 63, 95); fill-opacity: 1; white-space: pre;\">50k</text></g><g class=\"y2tick\"><text text-anchor=\"end\" x=\"79\" y=\"4.199999999999999\" transform=\"translate(0,238.59)\" style=\"font-family: 'Open Sans', verdana, arial, sans-serif; font-size: 12px; fill: rgb(42, 63, 95); fill-opacity: 1; white-space: pre;\">100k</text></g><g class=\"y2tick\"><text text-anchor=\"end\" x=\"79\" y=\"4.199999999999999\" transform=\"translate(0,218.1)\" style=\"font-family: 'Open Sans', verdana, arial, sans-serif; font-size: 12px; fill: rgb(42, 63, 95); fill-opacity: 1; white-space: pre;\">150k</text></g></g><g class=\"overaxes-above\"/></g><g class=\"subplot x3y3\"><g class=\"layer-subplot\"><g class=\"shapelayer\"/><g class=\"imagelayer\"/></g><g class=\"gridlayer\"><g class=\"x3\"><path class=\"x3grid crisp\" transform=\"translate(199.5,0)\" d=\"M0,310v60.00000000000001\" style=\"stroke: rgb(255, 255, 255); stroke-opacity: 1; stroke-width: 1px;\"/><path class=\"x3grid crisp\" transform=\"translate(332.32,0)\" d=\"M0,310v60.00000000000001\" style=\"stroke: rgb(255, 255, 255); stroke-opacity: 1; stroke-width: 1px;\"/><path class=\"x3grid crisp\" transform=\"translate(465.13,0)\" d=\"M0,310v60.00000000000001\" style=\"stroke: rgb(255, 255, 255); stroke-opacity: 1; stroke-width: 1px;\"/><path class=\"x3grid crisp\" transform=\"translate(597.95,0)\" d=\"M0,310v60.00000000000001\" style=\"stroke: rgb(255, 255, 255); stroke-opacity: 1; stroke-width: 1px;\"/></g><g class=\"y3\"><path class=\"y3grid crisp\" transform=\"translate(0,368.59000000000003)\" d=\"M80,0h540\" style=\"stroke: rgb(255, 255, 255); stroke-opacity: 1; stroke-width: 1px;\"/><path class=\"y3grid crisp\" transform=\"translate(0,355.33)\" d=\"M80,0h540\" style=\"stroke: rgb(255, 255, 255); stroke-opacity: 1; stroke-width: 1px;\"/><path class=\"y3grid crisp\" transform=\"translate(0,342.07)\" d=\"M80,0h540\" style=\"stroke: rgb(255, 255, 255); stroke-opacity: 1; stroke-width: 1px;\"/><path class=\"y3grid crisp\" transform=\"translate(0,328.81)\" d=\"M80,0h540\" style=\"stroke: rgb(255, 255, 255); stroke-opacity: 1; stroke-width: 1px;\"/><path class=\"y3grid crisp\" transform=\"translate(0,315.55)\" d=\"M80,0h540\" style=\"stroke: rgb(255, 255, 255); stroke-opacity: 1; stroke-width: 1px;\"/></g></g><g class=\"zerolinelayer\"/><path class=\"xlines-below\"/><path class=\"ylines-below\"/><g class=\"overlines-below\"/><g class=\"xaxislayer-below\"/><g class=\"yaxislayer-below\"/><g class=\"overaxes-below\"/><g class=\"plot\" transform=\"translate(80,310)\" clip-path=\"url('#clipbec545x3y3plot')\"><g class=\"scatterlayer mlayer\"><g class=\"trace scatter trace88eb97\" style=\"stroke-miterlimit: 2; opacity: 1;\"><g class=\"fills\"/><g class=\"errorbars\"/><g class=\"lines\"><path class=\"js-line\" d=\"M0,3.24L13.31,4.24L26.61,6.8L39.91,5.62L53.73,5.34L68.07,7.33L81.88,7.76L95.18,3L108.97,9.2L122.28,30.84L135.59,34.44L148.91,36.69L162.22,33.66L175.53,31.6L188.84,28.34L215.46,27.94L228.77,26.73L268.7,27.25L282.01,18.44L295.31,13.23L308.62,11.15L335.22,11.19L348.53,14.18L375.14,10.61L388.45,11.58L401.76,10.14L415.06,7.06L429.32,10.45L442.63,11.82L455.94,11.99L469.24,11.13L482.54,11.03L495.85,12.66L509.15,10.8L522.83,11.12L536.14,15.52L540,57\" style=\"vector-effect: non-scaling-stroke; fill: none; stroke: rgb(0, 204, 150); stroke-opacity: 1; stroke-width: 2px; opacity: 1;\"/></g><g class=\"points\"/><g class=\"text\"/></g></g></g><g class=\"overplot\"/><path class=\"xlines-above crisp\" d=\"M0,0\" style=\"fill: none;\"/><path class=\"ylines-above crisp\" d=\"M0,0\" style=\"fill: none;\"/><g class=\"overlines-above\"/><g class=\"xaxislayer-above\"><g class=\"x3tick\"><text text-anchor=\"middle\" x=\"0\" y=\"383\" transform=\"translate(199.5,0)\" style=\"font-family: 'Open Sans', verdana, arial, sans-serif; font-size: 12px; fill: rgb(42, 63, 95); fill-opacity: 1; white-space: pre;\">1</text></g><g class=\"x3tick\"><text text-anchor=\"middle\" x=\"0\" y=\"383\" transform=\"translate(332.32,0)\" style=\"font-family: 'Open Sans', verdana, arial, sans-serif; font-size: 12px; fill: rgb(42, 63, 95); fill-opacity: 1; white-space: pre;\">2</text></g><g class=\"x3tick\"><text text-anchor=\"middle\" x=\"0\" y=\"383\" transform=\"translate(465.13,0)\" style=\"font-family: 'Open Sans', verdana, arial, sans-serif; font-size: 12px; fill: rgb(42, 63, 95); fill-opacity: 1; white-space: pre;\">3</text></g><g class=\"x3tick\"><text text-anchor=\"middle\" x=\"0\" y=\"383\" transform=\"translate(597.95,0)\" style=\"font-family: 'Open Sans', verdana, arial, sans-serif; font-size: 12px; fill: rgb(42, 63, 95); fill-opacity: 1; white-space: pre;\">4</text></g></g><g class=\"yaxislayer-above\"><g class=\"y3tick\"><text text-anchor=\"end\" x=\"79\" y=\"4.199999999999999\" transform=\"translate(0,368.59000000000003)\" style=\"font-family: 'Open Sans', verdana, arial, sans-serif; font-size: 12px; fill: rgb(42, 63, 95); fill-opacity: 1; white-space: pre;\">0.2B</text></g><g class=\"y3tick\"><text text-anchor=\"end\" x=\"79\" y=\"4.199999999999999\" transform=\"translate(0,355.33)\" style=\"font-family: 'Open Sans', verdana, arial, sans-serif; font-size: 12px; fill: rgb(42, 63, 95); fill-opacity: 1; white-space: pre;\">0.4B</text></g><g class=\"y3tick\"><text text-anchor=\"end\" x=\"79\" y=\"4.199999999999999\" transform=\"translate(0,342.07)\" style=\"font-family: 'Open Sans', verdana, arial, sans-serif; font-size: 12px; fill: rgb(42, 63, 95); fill-opacity: 1; white-space: pre;\">0.6B</text></g><g class=\"y3tick\"><text text-anchor=\"end\" x=\"79\" y=\"4.199999999999999\" transform=\"translate(0,328.81)\" style=\"font-family: 'Open Sans', verdana, arial, sans-serif; font-size: 12px; fill: rgb(42, 63, 95); fill-opacity: 1; white-space: pre;\">0.8B</text></g><g class=\"y3tick\"><text text-anchor=\"end\" x=\"79\" y=\"4.199999999999999\" transform=\"translate(0,315.55)\" style=\"font-family: 'Open Sans', verdana, arial, sans-serif; font-size: 12px; fill: rgb(42, 63, 95); fill-opacity: 1; white-space: pre;\">1B</text></g></g><g class=\"overaxes-above\"/></g></g><g class=\"polarlayer\"/><g class=\"ternarylayer\"/><g class=\"geolayer\"/><g class=\"funnelarealayer\"/><g class=\"pielayer\"/><g class=\"treemaplayer\"/><g class=\"sunburstlayer\"/><g class=\"glimages\"/><defs id=\"topdefs-bec545\"><g class=\"clips\"/></defs><g class=\"layer-above\"><g class=\"imagelayer\"/><g class=\"shapelayer\"/></g><g class=\"infolayer\"><g class=\"g-gtitle\"/><g class=\"g-xtitle\"/><g class=\"g-x2title\"/><g class=\"g-x3title\"/><g class=\"g-ytitle\"/><g class=\"g-y2title\"/><g class=\"g-y3title\"/><g class=\"annotation\" data-index=\"0\" style=\"opacity: 1;\"><g class=\"annotation-text-g\" transform=\"rotate(0,350,89.5)\"><g class=\"cursor-pointer\" transform=\"translate(309,79)\"><rect class=\"bg\" x=\"0.5\" y=\"0.5\" width=\"81\" height=\"20\" style=\"stroke-width: 1px; stroke: rgb(0, 0, 0); stroke-opacity: 0; fill: rgb(0, 0, 0); fill-opacity: 0;\"/><text class=\"annotation-text\" text-anchor=\"middle\" x=\"40.796875\" y=\"16\" style=\"font-family: 'Open Sans', verdana, arial, sans-serif; font-size: 16px; fill: rgb(42, 63, 95); fill-opacity: 1; white-space: pre;\">cpu-cycles</text></g></g></g><g class=\"annotation\" data-index=\"1\" style=\"opacity: 1;\"><g class=\"annotation-text-g\" transform=\"rotate(0,350,194.5)\"><g class=\"cursor-pointer\" transform=\"translate(298,184)\"><rect class=\"bg\" x=\"0.5\" y=\"0.5\" width=\"103\" height=\"20\" style=\"stroke-width: 1px; stroke: rgb(0, 0, 0); stroke-opacity: 0; fill: rgb(0, 0, 0); fill-opacity: 0;\"/><text class=\"annotation-text\" text-anchor=\"middle\" x=\"51.90625\" y=\"16\" style=\"font-family: 'Open Sans', verdana, arial, sans-serif; font-size: 16px; fill: rgb(42, 63, 95); fill-opacity: 1; white-space: pre;\">cache-misses</text></g></g></g><g class=\"annotation\" data-index=\"2\" style=\"opacity: 1;\"><g class=\"annotation-text-g\" transform=\"rotate(0,350,299.5)\"><g class=\"cursor-pointer\" transform=\"translate(307,289)\"><rect class=\"bg\" x=\"0.5\" y=\"0.5\" width=\"85\" height=\"20\" style=\"stroke-width: 1px; stroke: rgb(0, 0, 0); stroke-opacity: 0; fill: rgb(0, 0, 0); fill-opacity: 0;\"/><text class=\"annotation-text\" text-anchor=\"middle\" x=\"42.46875\" y=\"16\" style=\"font-family: 'Open Sans', verdana, arial, sans-serif; font-size: 16px; fill: rgb(42, 63, 95); fill-opacity: 1; white-space: pre;\">instructions</text></g></g></g></g></svg>"
      ]
     },
     "metadata": {},
     "output_type": "display_data"
    }
   ],
   "source": [
    "cols = 1\n",
    "rows = math.ceil(len(events) / cols)\n",
    "fig = make_subplots(rows=rows, cols=cols, subplot_titles=events)\n",
    "\n",
    "for i, event in enumerate(events):\n",
    "    col = (i % cols) + 1\n",
    "    row = math.ceil((i + 1) / cols)\n",
    "    df = data_t2_df.loc[data_t2_df[3] == event]\n",
    "    fig.add_trace(\n",
    "        go.Scatter(x=df[0].values, y=df[1].values, mode=\"lines\"),\n",
    "        row=row,\n",
    "        col=col\n",
    "    )\n",
    "\n",
    "fig.update_layout(showlegend=False)\n",
    "fig.show(\"svg\")"
   ]
  },
  {
   "cell_type": "code",
   "execution_count": null,
   "id": "244d89e0",
   "metadata": {},
   "outputs": [],
   "source": []
  }
 ],
 "metadata": {
  "kernelspec": {
   "display_name": "Python [conda env:dnn]",
   "language": "python",
   "name": "conda-env-dnn-py"
  },
  "language_info": {
   "codemirror_mode": {
    "name": "ipython",
    "version": 3
   },
   "file_extension": ".py",
   "mimetype": "text/x-python",
   "name": "python",
   "nbconvert_exporter": "python",
   "pygments_lexer": "ipython3",
   "version": "3.9.4"
  }
 },
 "nbformat": 4,
 "nbformat_minor": 5
}
