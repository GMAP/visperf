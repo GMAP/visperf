{
 "cells": [
  {
   "cell_type": "markdown",
   "id": "8f72ca48",
   "metadata": {},
   "source": [
    "# VisCPU: data pre-processing"
   ]
  },
  {
   "cell_type": "markdown",
   "id": "e4f90a72",
   "metadata": {},
   "source": [
    "TODO:\n",
    "- write about;\n",
    "- why this notebook;"
   ]
  },
  {
   "cell_type": "markdown",
   "id": "f982b259",
   "metadata": {},
   "source": [
    "## Dependencies and imports"
   ]
  },
  {
   "cell_type": "markdown",
   "id": "3960d0a3",
   "metadata": {},
   "source": [
    "Install and import required packages."
   ]
  },
  {
   "cell_type": "code",
   "execution_count": null,
   "id": "8d7d1e22",
   "metadata": {
    "scrolled": true
   },
   "outputs": [],
   "source": [
    "!pip install pandas\n",
    "!pip install psutil\n",
    "!conda install -c plotly plotly-orca -y"
   ]
  },
  {
   "cell_type": "code",
   "execution_count": 61,
   "id": "fabed656",
   "metadata": {},
   "outputs": [
    {
     "name": "stdout",
     "output_type": "stream",
     "text": [
      "The autoreload extension is already loaded. To reload it, use:\n",
      "  %reload_ext autoreload\n"
     ]
    }
   ],
   "source": [
    "import json\n",
    "import pandas as pd\n",
    "from viscpu import utils\n",
    "\n",
    "%load_ext autoreload\n",
    "%autoreload 2"
   ]
  },
  {
   "cell_type": "markdown",
   "id": "e98dcefb",
   "metadata": {},
   "source": [
    "## Load datasets"
   ]
  },
  {
   "cell_type": "markdown",
   "id": "3cfe2fd1",
   "metadata": {},
   "source": [
    "Load the two datasets that will be compared. We use the first dataset as base for comparison. For example: if the first experiment has 10 cache misses and the second has 15 cache misses, this means that the number of cache misses increased."
   ]
  },
  {
   "cell_type": "code",
   "execution_count": 13,
   "id": "15939861",
   "metadata": {},
   "outputs": [],
   "source": [
    "dataset_1 = \"../applications/simple-ff-test/data/perf-test-1.csv\"\n",
    "dataset_2 = \"../applications/simple-ff-test/data/perf-test-2.csv\"\n",
    "\n",
    "column_names=[\"time\", \"cpu\", \"counter_value\", \"ignore_1\", \"event\",\n",
    "              \"ignore_2\", \"ignore_3\", \"ignore_4\", \"ignore_5\", \"ignore_6\"]\n",
    "usecols=[\"time\", \"cpu\", \"counter_value\", \"event\"]\n",
    "\n",
    "df_1 = pd.read_csv(dataset_1, skiprows=1, header=None, names=column_names, usecols=usecols)\n",
    "df_2 = pd.read_csv(dataset_2, skiprows=1, header=None, names=column_names, usecols=usecols)"
   ]
  },
  {
   "cell_type": "markdown",
   "id": "f775ae3c",
   "metadata": {},
   "source": [
    "Define captured events:"
   ]
  },
  {
   "cell_type": "code",
   "execution_count": 6,
   "id": "96f4b1fc",
   "metadata": {},
   "outputs": [],
   "source": [
    "events = [\"cpu-cycles\", \"cache-misses\", \"instructions\", \"cycle_activity.cycles_l3_miss\"]"
   ]
  },
  {
   "cell_type": "markdown",
   "id": "fa0fa627",
   "metadata": {},
   "source": [
    "## Pre-processing"
   ]
  },
  {
   "cell_type": "code",
   "execution_count": 125,
   "id": "3d2a1f19",
   "metadata": {},
   "outputs": [],
   "source": [
    "output = {}"
   ]
  },
  {
   "cell_type": "markdown",
   "id": "5b915fd4",
   "metadata": {},
   "source": [
    "Create the setup of the CPUs. Here you can choose how many CPUs will be shown on each row."
   ]
  },
  {
   "cell_type": "code",
   "execution_count": 126,
   "id": "450b0d9a",
   "metadata": {},
   "outputs": [],
   "source": [
    "cpu_labels, cpu_setup = utils.get_cpu_setup(df_1[\"cpu\"].unique(), cpus_per_row=4)\n",
    "\n",
    "output[\"cpu_labels\"] = cpu_labels\n",
    "output[\"cpu_setup\"] = cpu_setup"
   ]
  },
  {
   "cell_type": "markdown",
   "id": "2f84ef17",
   "metadata": {},
   "source": [
    "Load data from each captured event and write in `output`:"
   ]
  },
  {
   "cell_type": "code",
   "execution_count": 127,
   "id": "b972dab2",
   "metadata": {},
   "outputs": [],
   "source": [
    "for event in events:\n",
    "    output[\"dataset-1\"] = {}\n",
    "    times, captures = utils.get_event_data(df_1, cpu_setup, event)\n",
    "    output[\"dataset-1\"][event] = {\"captures\": captures}\n",
    "    \n",
    "    output[\"dataset-2\"] = {}\n",
    "    times, captures = utils.get_event_data(df_2, cpu_setup, event)\n",
    "    output[\"dataset-2\"][event] = {\"captures\": captures}"
   ]
  },
  {
   "cell_type": "markdown",
   "id": "60c3b66f",
   "metadata": {},
   "source": [
    "Write `output` to a JSON file:"
   ]
  },
  {
   "cell_type": "code",
   "execution_count": 128,
   "id": "4f7163aa",
   "metadata": {},
   "outputs": [
    {
     "name": "stdout",
     "output_type": "stream",
     "text": [
      "mkdir: cannot create directory ‘data’: File exists\r\n"
     ]
    }
   ],
   "source": [
    "!mkdir data\n",
    "\n",
    "with open(\"data/simple-ff-test-1x2.json\", \"w\") as f:\n",
    "    json.dump(output, f)"
   ]
  },
  {
   "cell_type": "code",
   "execution_count": null,
   "id": "c1b7729d",
   "metadata": {},
   "outputs": [],
   "source": []
  }
 ],
 "metadata": {
  "kernelspec": {
   "display_name": "Python [conda env:dnn]",
   "language": "python",
   "name": "conda-env-dnn-py"
  },
  "language_info": {
   "codemirror_mode": {
    "name": "ipython",
    "version": 3
   },
   "file_extension": ".py",
   "mimetype": "text/x-python",
   "name": "python",
   "nbconvert_exporter": "python",
   "pygments_lexer": "ipython3",
   "version": "3.9.4"
  }
 },
 "nbformat": 4,
 "nbformat_minor": 5
}
