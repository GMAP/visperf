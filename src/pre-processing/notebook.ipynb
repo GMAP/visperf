{
 "cells": [
  {
   "cell_type": "markdown",
   "id": "8f72ca48",
   "metadata": {},
   "source": [
    "# VisCPU: data pre-processing"
   ]
  },
  {
   "cell_type": "markdown",
   "id": "e4f90a72",
   "metadata": {},
   "source": [
    "TODO:\n",
    "- write about;\n",
    "- why this notebook;"
   ]
  },
  {
   "cell_type": "markdown",
   "id": "f982b259",
   "metadata": {},
   "source": [
    "## Dependencies and imports"
   ]
  },
  {
   "cell_type": "markdown",
   "id": "3960d0a3",
   "metadata": {},
   "source": [
    "Install and import required packages."
   ]
  },
  {
   "cell_type": "code",
   "execution_count": null,
   "id": "8d7d1e22",
   "metadata": {
    "scrolled": true
   },
   "outputs": [],
   "source": [
    "!pip install pandas\n",
    "!pip install psutil\n",
    "!conda install -c plotly plotly-orca -y"
   ]
  },
  {
   "cell_type": "code",
   "execution_count": 321,
   "id": "fabed656",
   "metadata": {},
   "outputs": [
    {
     "name": "stdout",
     "output_type": "stream",
     "text": [
      "The autoreload extension is already loaded. To reload it, use:\n",
      "  %reload_ext autoreload\n"
     ]
    }
   ],
   "source": [
    "import json\n",
    "import pandas as pd\n",
    "import numpy as np\n",
    "from viscpu import utils\n",
    "\n",
    "%load_ext autoreload\n",
    "%autoreload 2"
   ]
  },
  {
   "cell_type": "markdown",
   "id": "e98dcefb",
   "metadata": {},
   "source": [
    "## Load datasets"
   ]
  },
  {
   "cell_type": "markdown",
   "id": "3cfe2fd1",
   "metadata": {},
   "source": [
    "Load the two datasets that will be compared. We use the first dataset as base for comparison. For example: if the first experiment has 10 cache misses and the second has 15 cache misses, this means that the number of cache misses increased."
   ]
  },
  {
   "cell_type": "code",
   "execution_count": 311,
   "id": "15939861",
   "metadata": {},
   "outputs": [],
   "source": [
    "dataset_1 = \"../applications/simple-ff-test/data/perf-test-1.csv\"\n",
    "dataset_2 = \"../applications/simple-ff-test/data/perf-test-2.csv\"\n",
    "\n",
    "column_names=[\"time\", \"cpu\", \"counter_value\", \"ignore_1\", \"event\",\n",
    "              \"ignore_2\", \"ignore_3\", \"ignore_4\", \"ignore_5\", \"ignore_6\"]\n",
    "usecols=[\"time\", \"cpu\", \"counter_value\", \"event\"]\n",
    "\n",
    "df_1 = pd.read_csv(dataset_1, skiprows=1, header=None, names=column_names, usecols=usecols)\n",
    "df_1[\"time\"] = df_1[\"time\"].round(4)\n",
    "df_2 = pd.read_csv(dataset_2, skiprows=1, header=None, names=column_names, usecols=usecols)\n",
    "df_2[\"time\"] = df_2[\"time\"].round(4)"
   ]
  },
  {
   "cell_type": "markdown",
   "id": "f775ae3c",
   "metadata": {},
   "source": [
    "Define captured events:"
   ]
  },
  {
   "cell_type": "code",
   "execution_count": 341,
   "id": "96f4b1fc",
   "metadata": {},
   "outputs": [],
   "source": [
    "events = [\"cpu-cycles\", \"cache-misses\", \"instructions\", \"cycle_activity.cycles_l3_miss\"]"
   ]
  },
  {
   "cell_type": "markdown",
   "id": "118c868b",
   "metadata": {},
   "source": [
    "## Pre-processing"
   ]
  },
  {
   "cell_type": "code",
   "execution_count": 342,
   "id": "9eddd6ed",
   "metadata": {},
   "outputs": [],
   "source": [
    "output = {\"events\": events, \"dataset-1\": {\"raw\": {}, \"aggregated\": {}}, \"dataset-2\": {\"raw\": {}, \"aggregated\": {}}, \"comparison\": {}}"
   ]
  },
  {
   "cell_type": "markdown",
   "id": "53efdc14",
   "metadata": {},
   "source": [
    "Create the setup of the CPUs. Here you can choose how many CPUs will be shown on each row."
   ]
  },
  {
   "cell_type": "code",
   "execution_count": 343,
   "id": "ae44a2b7",
   "metadata": {},
   "outputs": [],
   "source": [
    "cpu_labels, cpu_setup = utils.get_cpu_setup(df_1[\"cpu\"].unique(), cpus_per_row=4)\n",
    "\n",
    "output[\"cpu_labels\"] = cpu_labels\n",
    "output[\"cpu_setup\"] = cpu_setup"
   ]
  },
  {
   "cell_type": "markdown",
   "id": "0d229288",
   "metadata": {},
   "source": [
    "Load data from each captured event and write in `output`:"
   ]
  },
  {
   "cell_type": "code",
   "execution_count": 344,
   "id": "3599d772",
   "metadata": {},
   "outputs": [
    {
     "name": "stdout",
     "output_type": "stream",
     "text": [
      "Processing event 'cpu-cycles'...\n",
      "Finished event 'cpu-cycles'.\n",
      "Processing event 'cache-misses'...\n",
      "Finished event 'cache-misses'.\n",
      "Processing event 'instructions'...\n",
      "Finished event 'instructions'.\n",
      "Processing event 'cycle_activity.cycles_l3_miss'...\n",
      "Finished event 'cycle_activity.cycles_l3_miss'.\n"
     ]
    }
   ],
   "source": [
    "for event in events:\n",
    "    print(f\"Processing event '{event}'...\")\n",
    "    times, captures = utils.get_event_data(df_1, cpu_setup, event)\n",
    "    output[\"dataset-1\"][\"raw\"][event] = {\n",
    "        \"captures\": captures,\n",
    "        \"captures_min\": float(df_1[df_1[\"event\"] == event][\"counter_value\"].min()),\n",
    "        \"captures_max\": float(df_1[df_1[\"event\"] == event][\"counter_value\"].max())\n",
    "    }\n",
    "    \n",
    "    times, captures = utils.get_event_data(df_2, cpu_setup, event)\n",
    "    output[\"dataset-2\"][\"raw\"][event] = {\n",
    "        \"captures\": captures,\n",
    "        \"captures_min\": float(df_2[df_2[\"event\"] == event][\"counter_value\"].min()),\n",
    "        \"captures_max\": float(df_2[df_2[\"event\"] == event][\"counter_value\"].max())\n",
    "    }\n",
    "    print(f\"Finished event '{event}'.\")"
   ]
  },
  {
   "cell_type": "markdown",
   "id": "f6a4ab90",
   "metadata": {},
   "source": [
    "Aggregate time series of events. This will allow to compare the overall performance of the experiments."
   ]
  },
  {
   "cell_type": "code",
   "execution_count": 352,
   "id": "73929061",
   "metadata": {},
   "outputs": [
    {
     "name": "stdout",
     "output_type": "stream",
     "text": [
      "Processing event 'cpu-cycles'...\n",
      "Finished event 'cpu-cycles'.\n",
      "Processing event 'cache-misses'...\n",
      "Finished event 'cache-misses'.\n",
      "Processing event 'instructions'...\n",
      "Finished event 'instructions'.\n",
      "Processing event 'cycle_activity.cycles_l3_miss'...\n",
      "Finished event 'cycle_activity.cycles_l3_miss'.\n"
     ]
    }
   ],
   "source": [
    "for event in events:\n",
    "    print(f\"Processing event '{event}'...\")\n",
    "    df_1_aggr = df_1[df_1[\"event\"] == event].groupby([\"cpu\"], as_index=False)[\"counter_value\"]\n",
    "    df_2_aggr = df_2[df_2[\"event\"] == event].groupby([\"cpu\"], as_index=False)[\"counter_value\"]\n",
    "    \n",
    "    if event not in output[\"dataset-1\"][\"aggregated\"]:\n",
    "        output[\"dataset-1\"][\"aggregated\"][event] = {\"mean\": {}, \"sum\": {}}\n",
    "        output[\"dataset-2\"][\"aggregated\"][event] = {\"mean\": {}, \"sum\": {}}\n",
    "    \n",
    "    if event not in output[\"comparison\"]:\n",
    "        output[\"comparison\"][event] = {}\n",
    "    \n",
    "    a = utils.transform_cpu_data(df_1_aggr.mean(), cpu_setup)\n",
    "    b = utils.transform_cpu_data(df_2_aggr.mean(), cpu_setup)\n",
    "    output[\"dataset-1\"][\"aggregated\"][event][\"mean\"] = a\n",
    "    output[\"dataset-2\"][\"aggregated\"][event][\"mean\"] = b\n",
    "    \n",
    "    output[\"comparison\"][event][\"mean\"] = (np.array(a) - np.array(b)).tolist()\n",
    "    \n",
    "    a = utils.transform_cpu_data(df_1_aggr.sum(), cpu_setup)\n",
    "    b = utils.transform_cpu_data(df_2_aggr.sum(), cpu_setup)\n",
    "    output[\"dataset-1\"][\"aggregated\"][event][\"sum\"] = a\n",
    "    output[\"dataset-2\"][\"aggregated\"][event][\"sum\"] = b\n",
    "    \n",
    "    output[\"comparison\"][event][\"sum\"] = (np.array(a) - np.array(b)).tolist()\n",
    "    \n",
    "    print(f\"Finished event '{event}'.\")"
   ]
  },
  {
   "cell_type": "markdown",
   "id": "de07dc3f",
   "metadata": {},
   "source": [
    "## Output"
   ]
  },
  {
   "cell_type": "markdown",
   "id": "8402eaa7",
   "metadata": {},
   "source": [
    "Write `output` to a JSON file:"
   ]
  },
  {
   "cell_type": "code",
   "execution_count": 354,
   "id": "ef36167a",
   "metadata": {},
   "outputs": [
    {
     "name": "stdout",
     "output_type": "stream",
     "text": [
      "mkdir: cannot create directory ‘data’: File exists\r\n"
     ]
    }
   ],
   "source": [
    "!mkdir data\n",
    "\n",
    "with open(\"data/simple-ff-test-1x2.json\", \"w\") as f:\n",
    "    json.dump(output, f)"
   ]
  },
  {
   "cell_type": "code",
   "execution_count": null,
   "id": "83d77b5c",
   "metadata": {},
   "outputs": [],
   "source": []
  }
 ],
 "metadata": {
  "kernelspec": {
   "display_name": "Python [conda env:dnn]",
   "language": "python",
   "name": "conda-env-dnn-py"
  },
  "language_info": {
   "codemirror_mode": {
    "name": "ipython",
    "version": 3
   },
   "file_extension": ".py",
   "mimetype": "text/x-python",
   "name": "python",
   "nbconvert_exporter": "python",
   "pygments_lexer": "ipython3",
   "version": "3.9.4"
  }
 },
 "nbformat": 4,
 "nbformat_minor": 5
}
